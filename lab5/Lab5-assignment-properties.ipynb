{
 "cells": [
  {
   "cell_type": "markdown",
   "metadata": {},
   "source": [
    "# Lab5 - Assignment 5 about extraction of properties\n",
    "\n",
    "Copyright, Vrije Universiteit Amsterdam, Faculty of Humanities, CLTL\n",
    "\n",
    "This notebook describes the LAB-5 assignment of the Text Mining course. It is about Property Extraction.\n",
    "\n",
    "**Due**: 17 Mar at 23:59\n",
    "\n",
    "**How to submit**: Please submit your assignment using Canvas (see *Assignments* -> *Lab Session Property Extraction*). Convert your notebook to PDF (in JupyterLab, this can be done by clicking on *File* in the menu bar, select *Export Notebook As*, then select *Export Notebook to PDF*)\n",
    "\n",
    "**Points**: each exercise is suffixed with the number of points you can obtain for the exercise.\n",
    "\n",
    "**Assignment goals**:\n",
    "* Get insight into the challenges of entity property extraction.\n",
    "* Learn how to build a transparent property extraction method based on patterns.\n",
    "* Get insight into the pros and cons of two pattern-based property extraction methods.\n",
    "* Be able to run your extractors on unseen documents from Wikipedia.\n",
    "* Be able to evaluate property extractors.\n",
    "\n",
    "In this assignment, the main focus lies on creating your own pattern-based property extractors. You are then going to run them on Wikipedia texts, evaluate them against gold values, and reflect on their relative performance.\n",
    "\n",
    " We recommend that you go through the notebooks in the following order:\n",
    "* *Read the assignment (see below)*\n",
    "* *Lab5-Property-extraction.ipynb*\n",
    "* *Answer the questions of the assignment (see below) using the provided notebooks and submit*\n",
    "\n",
    "**Hint:** in the explanation notebook, we had an example about extraction of properties with substring matching and with dependencies. You can use much of that code here, but make sure you make the right adjustments.\n",
    "\n",
    "**Good luck & have fun!**"
   ]
  },
  {
   "cell_type": "code",
   "execution_count": 3,
   "metadata": {},
   "outputs": [],
   "source": [
    "import spacy\n",
    "import lab5_utils as utils\n",
    "\n",
    "model=\"en_core_web_sm\"\n",
    "\n",
    "nlp = spacy.load(model)\n",
    "# print(\"Info: Loaded model '%s'\" % model)"
   ]
  },
  {
   "cell_type": "markdown",
   "metadata": {},
   "source": [
    "### 1. Extracting properties with substring matching (12 points)\n",
    "\n",
    "**Exercise 1a** Write code that extracts the birth year of a person by using substring matching. (4 points)\n"
   ]
  },
  {
   "cell_type": "code",
   "execution_count": 4,
   "metadata": {},
   "outputs": [],
   "source": [
    "def extract_birth_year_regex(doc, patterns):\n",
    "    # Extract the birth year of a person with regular expressions\n",
    "    property_value_type='DATE'\n",
    "    target_entity_type='PERSON'\n",
    "    \n",
    "    # the following 3 lines merge entities and noun chunks into one token\n",
    "    # this is useful in our cases, so we will always do it.\n",
    "    spans = list(doc.ents) + list(doc.noun_chunks)\n",
    "    for span in spans:\n",
    "        span.merge()\n",
    "\n",
    "    relations = {}\n",
    "    \n",
    "    # step Ia - generate possible property values\n",
    "    dates=utils.get_entities_of_type(property_value_type, doc)\n",
    "    for date in dates:\n",
    "        # step Ib - is one of our patterns found before the date \n",
    "        if utils.pattern_found_on_the_left(doc, date.i, patterns):\n",
    "            # step II - find the closest entity of some target type\n",
    "            pers=utils.find_closest_entity(doc.ents, date.idx, target_entity_type)\n",
    "            # step III - normalize the year\n",
    "            year=utils.extract_year_from_date(date.text)\n",
    "            if year and pers:\n",
    "                relations[pers]=year\n",
    "\n",
    "    return relations "
   ]
  },
  {
   "cell_type": "markdown",
   "metadata": {},
   "source": [
    "**Exercise 1b** Test your *birth year substring matching extractor* in the following way. \n",
    "\n",
    "* Write a sentence on which you expect that the extractor *WILL* work. \n",
    "* Write a sentence on which you expect that the extractor *WILL NOT* work. \n",
    "\n",
    "Run your extractor on both sentences and print the results. Make sure that the results are as expected. (2 points)"
   ]
  },
  {
   "cell_type": "code",
   "execution_count": 5,
   "metadata": {},
   "outputs": [
    {
     "name": "stdout",
     "output_type": "stream",
     "text": [
      "This sentence \u001b[1m WILL\u001b[0m work: Peter was born in 1975.\n",
      "{'Peter': 1975}\n",
      "\n",
      "This sentence \u001b[1m WILL NOT\u001b[0m work: Peter Pan's dog was born in 1990\n",
      "{}\n"
     ]
    }
   ],
   "source": [
    "born_patterns=['born in', 'birthdate', 'born on']\n",
    "\n",
    "text='Peter was born in 1975.'\n",
    "text2 = \"Peter Pan's dog was born in 1990\"\n",
    "\n",
    "print( \"This sentence \\033[1m WILL\\033[0m work:\",text)\n",
    "birth_year_relations=extract_birth_year_regex(nlp(text), born_patterns)\n",
    "print(birth_year_relations)\n",
    "print()\n",
    "print( \"This sentence \\033[1m WILL NOT\\033[0m work:\",text2)\n",
    "birth_year_relations2=extract_birth_year_regex(nlp(text2), born_patterns)\n",
    "print(birth_year_relations2)"
   ]
  },
  {
   "cell_type": "markdown",
   "metadata": {},
   "source": [
    "**Exercise 1c** Write code that extracts the manufacturer of a device by using substring matching. (4 points)"
   ]
  },
  {
   "cell_type": "code",
   "execution_count": 6,
   "metadata": {},
   "outputs": [],
   "source": [
    "def extract_manufacturer_regex(doc, patterns, main_entity):\n",
    "    # Extract the manufacturer of a device by using regular expressions\n",
    "    property_value_type='ORG'\n",
    "    target_entity_type='PRODUCT'\n",
    "    \n",
    "    # the following 3 lines merge entities and noun chunks into one token\n",
    "    # this is useful in our cases, so we will always do it.\n",
    "    spans = list(doc.ents) + list(doc.noun_chunks)\n",
    "    for span in spans:\n",
    "        span.merge()\n",
    "\n",
    "    relations = {}\n",
    "    \n",
    "    manus =utils.get_entities_of_type(property_value_type, doc)\n",
    "    \n",
    "    for manu in manus:\n",
    "        if utils.pattern_found_on_the_left(doc, manu.i, patterns):\n",
    "            prod=utils.find_closest_entity(doc.ents, manu.idx, target_entity_type)\n",
    "            if not prod:\n",
    "                prod = main_entity\n",
    "            if manu and prod:\n",
    "                relations[prod]=manu.text\n",
    "    return relations\n"
   ]
  },
  {
   "cell_type": "markdown",
   "metadata": {},
   "source": [
    "**Exercise 1d** Test your *manufacturer substring matching extractor* in the following way. \n",
    "\n",
    "* Write a sentence on which you expect that the extractor *WILL* work. \n",
    "* Write a sentence on which you expect that the extractor *WILL NOT* work. \n",
    "\n",
    "Run your extractor on both sentences and print the results. Make sure that the results are as expected. (2 points)"
   ]
  },
  {
   "cell_type": "code",
   "execution_count": 7,
   "metadata": {},
   "outputs": [
    {
     "name": "stdout",
     "output_type": "stream",
     "text": [
      "This sentence \u001b[1m WILL\u001b[0m work: the iPhone was developed by Apple in 2000.\n",
      "{'iPhone': 'Apple'}\n",
      "\n",
      "This sentence \u001b[1m WILL NOT\u001b[0m work: Apple developed the iPad in 2005 .\n",
      "{}\n"
     ]
    }
   ],
   "source": [
    "manu_predicates=['manufactured', 'produced', 'developed by', 'developed']\n",
    "main_entity = 'iPhone'\n",
    "sentence='the iPhone was developed by Apple in 2000.'\n",
    "sentence2 = 'Apple developed the iPad in 2005 .'\n",
    "\n",
    "print( \"This sentence \\033[1m WILL\\033[0m work:\",sentence)\n",
    "manu_relations=extract_manufacturer_regex(nlp(sentence), manu_predicates, main_entity)\n",
    "print(manu_relations)\n",
    "print()\n",
    "print( \"This sentence \\033[1m WILL NOT\\033[0m work:\",sentence2)\n",
    "manu_relations2=extract_manufacturer_regex(nlp(sentence2), manu_predicates, main_entity)\n",
    "print(manu_relations2)"
   ]
  },
  {
   "cell_type": "markdown",
   "metadata": {},
   "source": [
    "### 2. Extracting properties by using dependency information (12 points)"
   ]
  },
  {
   "cell_type": "code",
   "execution_count": 8,
   "metadata": {},
   "outputs": [],
   "source": [
    "def fitting_dependency(token, predicates):\n",
    "    \"\"\"\n",
    "    Check whether the we find the right keyword in the correct part of the dependency tree.\n",
    "    \"\"\"\n",
    "    # Find prepositional objects that have a head with dependency label 'agent'\n",
    "    # and its head has a dependency label 'acl'\n",
    "    # Also, we make sure that the head of the head of our object is one of our keywords.\n",
    "    if token.dep_ == 'nsubjpass' and token.head.dep_ == 'ROOT':\n",
    "        pred=token.head.head\n",
    "        if pred.text in predicates:\n",
    "            return True\n",
    "        else:\n",
    "            return False\n",
    "    else:\n",
    "        return False"
   ]
  },
  {
   "cell_type": "markdown",
   "metadata": {},
   "source": [
    "**Exercise 2a** Write code that extracts the birth year of a person by using dependency information. (4 points)"
   ]
  },
  {
   "cell_type": "code",
   "execution_count": 9,
   "metadata": {},
   "outputs": [],
   "source": [
    "def extract_birth_year_dep(doc, predicates):\n",
    "    \n",
    "    property_value_type='PERSON'\n",
    "    target_entity_type='DATE'\n",
    "    \n",
    "    # the following 3 lines merge entities and noun chunks into one token\n",
    "    # this is useful in our cases, so we will always do it.\n",
    "    spans = list(doc.ents) + list(doc.noun_chunks)\n",
    "    for span in spans:\n",
    "        span.merge()\n",
    "    \n",
    "    relations={}\n",
    "    \n",
    "    # step Ia - generate possible property values\n",
    "    persons=utils.get_entities_of_type(property_value_type, doc)\n",
    "    \n",
    "    for person in persons:\n",
    "        # step Ib - do we find the right keyword in the correct part of the dependency tree?\n",
    "        if fitting_dependency(person, predicates):\n",
    "            # step II - find the closest entity of some target type\n",
    "            date=utils.find_closest_entity(doc.ents, person.idx, target_entity_type)\n",
    "            year =utils.extract_year_from_date(date)\n",
    "            if person and year:\n",
    "                relations[person]=year\n",
    "    return relations"
   ]
  },
  {
   "cell_type": "markdown",
   "metadata": {},
   "source": [
    "**Exercise 2b** Test your *birth year dependency extractor* in the following way. \n",
    "\n",
    "* Write a sentence on which you expect that the extractor *WILL* work. \n",
    "* Write a sentence on which you expect that the extractor *WILL NOT* work. \n",
    "\n",
    "Run your extractor on both sentences and print the results. Make sure that the results are as expected. (2 points)"
   ]
  },
  {
   "cell_type": "code",
   "execution_count": 10,
   "metadata": {},
   "outputs": [
    {
     "name": "stdout",
     "output_type": "stream",
     "text": [
      "This sentence \u001b[1m WILL\u001b[0m work: Peter was born in 1975.\n",
      "{Peter: 1975}\n",
      "\n",
      "This sentence \u001b[1m WILL NOT\u001b[0m work: In 1975 Peter's dog was born.\n",
      "{}\n"
     ]
    }
   ],
   "source": [
    "born_patterns=['born', 'birthdate']\n",
    "sentence='Peter was born in 1975.'\n",
    "sentence2 = \"In 1975 Peter's dog was born.\"\n",
    "\n",
    "print( \"This sentence \\033[1m WILL\\033[0m work:\",sentence)\n",
    "birth_year_relations=extract_birth_year_dep(nlp(sentence), born_patterns)\n",
    "print(birth_year_relations)\n",
    "print()\n",
    "print( \"This sentence \\033[1m WILL NOT\\033[0m work:\",sentence2)\n",
    "birth_year_relations2=extract_birth_year_dep(nlp(sentence2), born_patterns)\n",
    "print(birth_year_relations2)"
   ]
  },
  {
   "cell_type": "markdown",
   "metadata": {},
   "source": [
    "**Exercise 2c** Write code that extracts the manufacturer of a device by using dependency information. (4 points)"
   ]
  },
  {
   "cell_type": "code",
   "execution_count": 11,
   "metadata": {},
   "outputs": [],
   "source": [
    "def fitting_dependency(token, predicates):\n",
    "    \"\"\"\n",
    "    Check whether the we find the right keyword in the correct part of the dependency tree.\n",
    "    \"\"\"\n",
    "    # Find prepositional objects that have a head with dependency label 'agent'\n",
    "    # and its head has a dependency label 'acl'\n",
    "    # Also, we make sure that the head of the head of our object is one of our keywords.\n",
    "    if token.dep_ == 'pobj' and token.head.dep_ == 'agent' and token.head.head.dep_ =='ROOT':\n",
    "        pred=token.head.head\n",
    "        if pred.text in predicates:\n",
    "            return True\n",
    "        else:\n",
    "            return False\n",
    "    else:\n",
    "        return False"
   ]
  },
  {
   "cell_type": "code",
   "execution_count": 12,
   "metadata": {},
   "outputs": [],
   "source": [
    "def extract_manufacturer(doc, predicates, main_entity):\n",
    "    \n",
    "    property_value_type='ORG'\n",
    "    target_entity_type='PRODUCT'\n",
    "    \n",
    "    # the following 3 lines merge entities and noun chunks into one token\n",
    "    # this is useful in our cases, so we will always do it.\n",
    "    spans = list(doc.ents) + list(doc.noun_chunks)\n",
    "    for span in spans:\n",
    "        span.merge()\n",
    "    \n",
    "    relations={}\n",
    "    \n",
    "    # step Ia - generate possible property values\n",
    "    manus=utils.get_entities_of_type(property_value_type, doc)\n",
    "    \n",
    "    for manu in manus:\n",
    "        # step Ib - do we find the right keyword in the correct part of the dependency tree?\n",
    "        if fitting_dependency(manu, predicates):\n",
    "            # step II - find the closest entity of some target type\n",
    "            device=utils.find_closest_entity(doc.ents, manu.idx, target_entity_type)\n",
    "            # Devices are often not recognized properly by SpaCy - \n",
    "            # if we find no device, we assume that the relation is about the main entity of the document\n",
    "            if not device:\n",
    "                device=main_entity\n",
    "            if device and manu:\n",
    "                relations[device]=manu.text\n",
    "    return relations"
   ]
  },
  {
   "cell_type": "markdown",
   "metadata": {},
   "source": [
    "**Exercise 2d** Test your *manufacturer dependency extractor* in the following way. \n",
    "\n",
    "* Write a sentence on which you expect that the extractor *WILL* work. \n",
    "* Write a sentence on which you expect that the extractor *WILL NOT* work. \n",
    "\n",
    "Run your extractor on both sentences and print the results. Make sure that the results are as expected. (2 points)"
   ]
  },
  {
   "cell_type": "code",
   "execution_count": 13,
   "metadata": {},
   "outputs": [
    {
     "name": "stdout",
     "output_type": "stream",
     "text": [
      "This sentence \u001b[1m WILL\u001b[0m work: the iPhone was developed by Apple in 2000.\n",
      "{'iPhone': 'Apple'}\n",
      "\n",
      "This sentence \u001b[1m WILL NOT\u001b[0m work: Apple developed the iPad in 2005.\n",
      "{}\n",
      "This sentence \u001b[1m WILL NOT\u001b[0m work: Walkman is a brand of portable media players manufactured by Sony. The original Walkman, released in 1979, was a portable cassette player that changed listening habits by allowing people to listen to music of their choice on the move. It was devised by Sony founders Masaru Ibuka and Akio Morita, who felt Sony existing portable player was too unwieldy and expensive\n",
      "{}\n"
     ]
    }
   ],
   "source": [
    "manu_predicates=['manufactured', 'produced', 'developed']\n",
    "main_entity = 'iPhone'\n",
    "main_entity2 ='Walkman'\n",
    "sentence='the iPhone was developed by Apple in 2000.'\n",
    "sentence2 = 'Apple developed the iPad in 2005.'\n",
    "sentence3= 'Walkman is a brand of portable media players manufactured by Sony. The original Walkman, released in 1979, was a portable cassette player that changed listening habits by allowing people to listen to music of their choice on the move. It was devised by Sony founders Masaru Ibuka and Akio Morita, who felt Sony existing portable player was too unwieldy and expensive'\n",
    "print( \"This sentence \\033[1m WILL\\033[0m work:\",sentence)\n",
    "manu_relations=extract_manufacturer(nlp(sentence), manu_predicates, main_entity)\n",
    "print(manu_relations)\n",
    "\n",
    "print()\n",
    "print( \"This sentence \\033[1m WILL NOT\\033[0m work:\",sentence2)\n",
    "manu_relations2=extract_manufacturer(nlp(sentence2), manu_predicates, main_entity)\n",
    "print(manu_relations2)\n",
    "print( \"This sentence \\033[1m WILL NOT\\033[0m work:\",sentence3)\n",
    "manu_relations3=extract_manufacturer(nlp(sentence2), manu_predicates, main_entity2)\n",
    "print(manu_relations3)"
   ]
  },
  {
   "cell_type": "markdown",
   "metadata": {},
   "source": [
    "### 3. Running and evaluating extractors on Wikipedia (8 points)\n",
    "\n",
    "We will run our extractors on 50 documents about people and 50 documents about devices. We provide code to load the lists of entities and the gold values."
   ]
  },
  {
   "cell_type": "code",
   "execution_count": 14,
   "metadata": {},
   "outputs": [
    {
     "name": "stdout",
     "output_type": "stream",
     "text": [
      "['Al Pacino', 'Alan Rickman', 'Albert Finney', 'Alyson Hannigan', 'Andie MacDowell', 'Andrew Lloyd Webber', 'Andrzej Wajda', 'Andrzej Żuławski', 'Angela Davis', 'Anthony Quinn', 'Antonio Banderas', 'Ashley Judd', 'Ava Gardner', 'Barbara Stanwyck', 'Ben Elton', 'Bernardo Bertolucci', 'Betty Marsden', 'Billy Wilder', 'Blake Edwards', 'Bob Black', 'Bob Keeshan', 'Brad Pitt', 'Cameron Diaz', 'Carmen Miranda', 'Carole Lombard', 'Catherine Deneuve', 'Cesare Zavattini', 'Chandra Levy', 'Charlton Heston', 'Chaz Bono', 'Christine McVie', 'Christopher Lambert', 'Christopher Lee', 'Clark Gable', 'Clint Eastwood', 'Clive Sinclair', 'Cybill Shepherd', 'Dan Aykroyd', 'Dannii Minogue', 'Dave Cutler', 'David Blaine', 'David Boies', 'David Gauthier', 'David Jason', 'David Niven', 'Denise Richards', 'Desmond Llewelyn', 'Don Siegel', 'Dudley Moore', 'Dustin Hoffman']\n"
     ]
    }
   ],
   "source": [
    "import json\n",
    "with open(\"birthyears.json\", 'rb') as f:\n",
    "    gold_birthyears=json.load(f)\n",
    "    wiki_people=list(gold_birthyears.keys())\n",
    "    \n",
    "with open(\"manufacturers.json\", 'rb') as f:\n",
    "    gold_manufacturers=json.load(f)\n",
    "    wiki_devices=list(gold_manufacturers.keys())\n",
    "print(wiki_people)"
   ]
  },
  {
   "cell_type": "markdown",
   "metadata": {},
   "source": [
    "The lists `wiki_people` and `wiki_devices` contain the names of 50 people and 50 devices, respectively.\n",
    "\n",
    "The dictionaries `gold_birthyears` and `gold_manufacturers` contain gold values for each of these entities.\n",
    "\n",
    "We provide a function that evaluates your extracted property values against known (\"gold\") property values. The function returns three evaluation scores: precision, recall, f1-score. You can find call this function as follows:\n",
    "\n",
    "`utils.evaluate_property(system_json, gold_json)`\n",
    "\n",
    "(make sure to replace the system_json and the gold_json with the concrete dictionaries you are comparing, depending on the property and the method)"
   ]
  },
  {
   "cell_type": "markdown",
   "metadata": {},
   "source": [
    "Now that we have stored the gold values for both properties in our dictionaries `gold_birthyears` and `gold_manufacturers`, and written the evaluation function, we need to obtain the system output as well and then perform evaluation.\n",
    "\n",
    "For this purpose, we will run our extractors on texts about the same 50 people and 50 devices from Wikipedia. As in the explanation notebook, we will use the `Wikipedia` library for this purpose. Same as in the explanation notebook, we will only process the first three sentences.\n",
    "\n",
    "In exercises 3a and 3b, we will run all our four processing functions and store the results in four different dictionaries. \n",
    "Then, in exercise 3c, we will run the evaluation function four times to compute precision, recall, and F1-score for all four functions."
   ]
  },
  {
   "cell_type": "markdown",
   "metadata": {},
   "source": [
    "**Exercise 3a** Run your two extractors about birth years of people (from exercise 1a and 1b) on all 50 documents about people. Save the extracted values in two different dictionaries: `birthyear_regex` and `birthyear_dep`. (3 points)"
   ]
  },
  {
   "cell_type": "code",
   "execution_count": 15,
   "metadata": {},
   "outputs": [],
   "source": [
    "import wikipedia"
   ]
  },
  {
   "cell_type": "code",
   "execution_count": 16,
   "metadata": {},
   "outputs": [
    {
     "name": "stdout",
     "output_type": "stream",
     "text": [
      "Al Pacino was not found on wikipedia\n",
      "\n",
      "Alan Rickman was not found on wikipedia\n",
      "\n",
      "Albert Finney was not found on wikipedia\n",
      "\n",
      "Alyson Lee Hannigan (born March 24, 1974) is an American actress and television presenter. She is best known for her roles as Willow Rosenberg on the television series Buffy the Vampire Slayer (1997–2003), Lily Aldrin on the sitcom How I Met Your Mother (2005–2014) for which she won a People's Choice Award in 2009, and Michelle Flaherty in the American Pie film series (1999–2012).\n",
      "\n",
      "\n",
      "== Early life ==\n",
      "Hannigan was born in Washington, D\n",
      "\n",
      "Andie MacDowell was not found on wikipedia\n",
      "\n",
      "Andrew Lloyd Webber, Baron Lloyd-Webber (born 22 March 1948) is an English composer and impresario of musical theatre. Several of his musicals have run for more than a decade both in the West End and on Broadway. He has composed 13 musicals, a song cycle, a set of variations, two film scores, and a Latin Requiem Mass\n",
      "\n",
      "Andrzej Witold Wajda (Polish: [ˈandʐɛj ˈvajda]; 6 March 1926 – 9 October 2016) was a Polish film and theatre director. Recipient of an Honorary Oscar, the Palme d'Or, as well as Honorary Golden Lion and Honorary Golden Bear Awards, he was a prominent member of the \"Polish Film School\". He was known especially for his trilogy of war films consisting of A Generation (1954), Kanał (1956) and Ashes and Diamonds (1958)\n",
      "\n",
      "Andrzej Żuławski (Polish: [ˈandʐɛj ʐuˈwafskʲi]; 22 November 1940 – 17 February 2016) was a Polish film director and writer. He was born in Lwów (Lviv), Ukrainian SSR (now Ukraine). Żuławski often went against mainstream commercialism in his films, and enjoyed success mostly with European art-house audiences\n",
      "\n",
      "Angela Yvonne Davis (born January 26, 1944) is an American political activist, philosopher, academic, and author. She is a professor emerita at the University of California, Santa Cruz. Ideologically a Marxist, Davis was a member of the Communist Party USA until 1991, after which she joined the breakaway Committees of Correspondence for Democracy and Socialism\n",
      "\n",
      "Antonio Rodolfo Quinn Oaxaca (April 21, 1915 – June 3, 2001), known professionally as Anthony Quinn, was a Mexican-American actor, painter, writer and film director. He starred in numerous critically acclaimed movies, including La Strada, The Guns of Navarone, Zorba the Greek, Guns for San Sebastian, Lawrence of Arabia, The Shoes of the Fisherman, The Message, Lion of the Desert, Last Action Hero and A Walk in the Clouds.\n",
      "Quinn won the Academy Award for Best Supporting Actor twice: for Viva Zapata! in 1952 and Lust for Life in 1956\n",
      "\n",
      "José Antonio Domínguez Bandera (born 10 August 1960), known professionally as Antonio Banderas, is a spanish actor, film producer and director. He is the recipient of numerous accolades, including a Cannes Best Actor Award and nominations for a Tony Award, an Academy Award, two Primetime Emmy Awards and five Golden Globe Awards. \n",
      "Banderas began his acting career with a series of films by director Pedro Almodóvar in the 1980s and then appeared in several Hollywood films, such as Philadelphia (1993), Interview with the Vampire (1994), Desperado (1995), Assassins (1995), Evita (1996), and The Mask of Zorro (1998)\n",
      "\n",
      "Ashley Judd (born Ashley Tyler Ciminella; April 19, 1968) is an American actress and a political activist. She grew up in a family of performing artists: she is the daughter of country music singer Naomi Judd and the sister of Wynonna Judd. Her acting career has spanned more than three decades, and she has also become increasingly involved in global humanitarian efforts and political activism\n",
      "\n",
      "Ava Lavinia Gardner (December 24, 1922 – January 25, 1990) was an American actress and singer. Gardner was signed to a contract with Metro-Goldwyn-Mayer in 1941, and appeared mainly in small roles until she drew attention with her performance in The Killers (1946). She was nominated for the Oscar for Best Actress for her work in Mogambo (1953), and also received BAFTA Award and Golden Globe Award nominations for other films\n",
      "\n",
      "Barbara Stanwyck (born Ruby Catherine Stevens; July 16, 1907 – January 20, 1990) was an American actress, model, and dancer. A stage, film and television star, she was known during her 60-year career as a consummate and versatile professional for her strong, realistic screen presence. A favorite of directors including Cecil B\n",
      "\n",
      "Benjamin Charles Elton (born 3 May 1959) is a British comedian, author, playwright, musical librettist, actor and director. He was a part of London's alternative comedy movement of the 1980s and became a writer on series such as The Young Ones and Blackadder, as well as continuing as a stand-up comedian on stage and television. His style in the 1980s was left-wing political satire\n",
      "\n",
      "Bernardo Bertolucci (Italian: [berˈnardo bertoˈluttʃi]; 16 March 1941 – 26 November 2018) was an Italian director and screenwriter, whose films include The Conformist, Last Tango in Paris, 1900, The Last Emperor (for which he won the Academy Award for Best Director and the Academy Award for Best Adapted Screenplay), The Sheltering Sky, Little Buddha, Stealing Beauty and The Dreamers.\n",
      "In recognition of his work, he was presented with the inaugural Honorary Palme d'Or Award at the opening ceremony of the 2011 Cannes Film Festival.From 1979 until his death in 2018, he was married to screenwriter Clare Peploe\n",
      "\n",
      "Betty Marsden (24 February 1919 – 18 July 1998) was an English comedy actress. She is particularly remembered as a cast member of the radio series Beyond Our Ken and Round the Horne. Marsden also appeared in two Carry On films, Carry On Regardless (1961) and Carry On Camping (1969)\n",
      "\n",
      "Billy Wilder (; German: [ˈvɪldɐ]; born Samuel Wilder, June 22, 1906 – March 27, 2002) was an Austrian-born American film director and screenwriter whose career spanned more than five decades. He is regarded as one of the most brilliant and versatile filmmakers of the Hollywood Golden Age of cinema. With The Apartment, Wilder became the first person to win Academy Awards as producer, director, and screenwriter for the same film\n",
      "\n",
      "William Blake Crump (July 26, 1922 – December 15, 2010), better known by his stage name, Blake Edwards, was an American filmmaker.\n",
      "Edwards began his career in the 1940s as an actor, but he soon began writing screenplays and radio scripts before turning to producing and directing in television and films. His best-known films include Breakfast at Tiffany's, Days of Wine and Roses, 10, Victor/Victoria, and the hugely successful Pink Panther film series with British actor  Peter Sellers\n",
      "\n",
      "Robert Charles Black Jr. (born January 4, 1951) is an American author and anarchist. He is the author of the books  The Abolition of Work and Other Essays, Beneath the Underground, Friendly Fire, Anarchy After Leftism, and Defacing the Currency, and numerous political essays\n",
      "\n",
      "Robert James Keeshan (June 27, 1927 – January 23, 2004) was an American television producer and actor. He created and played the title role in the children's television program Captain Kangaroo, which ran from 1955 to 1984, the longest-running nationally broadcast children's television program of its day.\n",
      "Keeshan also played the original Clarabell the Clown on the Howdy Doody television program\n",
      "\n",
      "William Bradley Pitt (born December 18, 1963) is an American actor and film producer. He has received multiple awards, including two Golden Globe Awards and an Academy Award for his acting, in addition to another Academy Award and a Primetime Emmy Award as producer under his production company, Plan B Entertainment.\n",
      "Pitt first gained recognition as a cowboy hitchhiker in the road movie Thelma & Louise (1991)\n",
      "\n",
      "Cameron Michelle Diaz (born August 30, 1972) is an American actress, writer and former model. She has frequently appeared in comedies throughout her career, while also earning critical recognition in dramatic films. Her accolades include four Golden Globe Award nominations, three Screen Actors Guild Award nominations, and a New York Film Critics Award\n",
      "\n",
      "Carmen Miranda  (Portuguese pronunciation: [ˈkaɾmẽȷ̃ miˈɾɐ̃dɐ]; born Maria do Carmo Miranda da Cunha; February 9, 1909 – August 5, 1955), was a Portuguese-born Brazilian samba singer, dancer, Broadway actress, and film star who was popular from the 1930s to the 1950s. Nicknamed \"The Brazilian Bombshell\", Miranda is noted for her signature fruit hat outfit she wore in her American films. As a young woman, she designed hats in a boutique before making her first recordings with composer Josué de Barros in 1929\n",
      "\n",
      "Carole Lombard (born Jane Alice Peters; October 6, 1908 – January 16, 1942) was an American film actress. She was particularly noted for her energetic, often off-beat roles in the screwball comedies of the 1930s. She was the highest-paid star in Hollywood in the late 1930s\n",
      "\n",
      "Catherine Fabienne Dorléac (born 22 October 1943), known professionally as Catherine Deneuve (; French: [katʁin dənœv] (listen)), is a French actress as well as an occasional singer, model and producer. She gained recognition for her portrayal of icy, aloof and mysterious beauties for various directors, including Luis Buñuel, François Truffaut and Roman Polanski. In 1985, she succeeded Mireille Mathieu as the official face of Marianne, France's national symbol of liberty\n",
      "\n",
      "Cesare Zavattini (20 September 1902 – 13 October 1989) was an Italian screenwriter and one of the first theorists and proponents of the Neorealist movement in Italian cinema.\n",
      "\n",
      "\n",
      "== Biography ==\n",
      "Born in Luzzara, near Reggio Emilia in northern Italy, on 20 September 1902,\n",
      "Zavattini studied law at the University of Parma, but devoted himself to writing.  In 1930 he relocated to Milan, and worked for the book and magazine publisher Angelo Rizzoli\n",
      "\n",
      "Chandra Ann Levy (April 14, 1977 – c. May 1, 2001) was an American intern at the Federal Bureau of Prisons in Washington, D.C\n",
      "\n",
      "Charlton Heston (born John Charles Carter; October 4, 1923 – April 5, 2008) was an American actor and political activist.\n",
      "As a Hollywood star, he appeared in almost 100 films over the course of 60 years. He played Moses in the epic film The Ten Commandments (1956), for which he received his first nomination for the Golden Globe Award for Best Actor – Motion Picture Drama\n",
      "\n",
      "Chaz Salvatore Bono (born Chastity Sun Bono; March 4, 1969) is an American writer, musician and actor. His parents are entertainers Sonny Bono and Cher.Bono is a trans man\n",
      "\n",
      "Christine Anne Perfect (born 12 July 1943), known professionally as Christine McVie following her marriage to John McVie, is an English singer, songwriter and keyboardist, best known as one of the three lead vocalists and the keyboardist of Fleetwood Mac. She joined the band in 1970. She has also released three solo albums\n",
      "\n",
      "Christophe Guy Denis Lambert (; French: [lɑ̃bɛʁ]; born 29 March 1957), known professionally as Christopher Lambert, is a French American actor, novelist, and producer. He started his career playing supporting parts in several French films, and became internationally famous with the role of Tarzan in Greystoke: The Legend of Tarzan, Lord of the Apes in 1984. For his performance in the 1985 film Subway, Lambert received the César Award for Best Actor\n",
      "\n",
      "Sir Christopher Frank Carandini Lee,  (27 May 1922 – 7 June 2015) was an English actor, singer and author. With a career spanning nearly 7 decades, Lee was well known for portraying villains and became best known for his role as Count Dracula in a sequence of Hammer Horror films, a typecasting he always lamented. His other film roles include Francisco Scaramanga in the James Bond film The Man with the Golden Gun (1974), Count Dooku in the Star Wars prequel trilogy (2002 and 2005), and Saruman in the Lord of the Rings film trilogy (2001–2003) and the Hobbit film trilogy (2012–2014)\n",
      "\n",
      "Clark Gable was not found on wikipedia\n",
      "\n",
      "Clinton Eastwood Jr. (born May 31, 1930) is an American actor, filmmaker, musician, and politician. After achieving success in the Western TV series Rawhide, he rose to international fame with his role as the Man with No Name in Italian filmmaker Sergio Leone's Dollars Trilogy of spaghetti Westerns during the 1960s and as antihero cop Harry Callahan in the five Dirty Harry films throughout the 1970s and 1980s\n",
      "\n",
      "Sir Clive Marles Sinclair (born 30 July 1940) is an English entrepreneur and inventor, most commonly known for his work in consumer electronics in the late 1970s and early 1980s.\n",
      "After spending several years as assistant editor of Instrument Practice, Sinclair founded Sinclair Radionics in 1961, where he produced the first slim-line electronic pocket calculator in 1972 (the Sinclair Executive). Sinclair later moved into the production of home computers and produced the Sinclair ZX80, the UK's first mass-market home computer for less than £100, and later, with Sinclair Research, the ZX81 and ZX Spectrum; the latter is widely recognised by consumers and programmers for its importance in the early days of the British home computer industry\n",
      "\n",
      "Cybill Lynne Shepherd (born February 18, 1950) is an American actress. Shepherd's better-known roles include Jacy in The Last Picture Show (1971), Kelly in The Heartbreak Kid (1972), Betsy in Taxi Driver (1976), Maddie Hayes on Moonlighting (1985–1989), Cybill Sheridan on Cybill (1995–1998), Phyllis Kroll on The L Word (2007–2009), Madeleine Spencer on Psych (2008–2013), Cassie in the television film The Client List (2010), and Linette Montgomery on The Client List (2012–2013).\n",
      "\n",
      "\n",
      "== Early life and career ==\n",
      "Shepherd was born in Memphis, Tennessee, the daughter of Patty (née Shobe), a homemaker, and William Jennings Shepherd, who managed a home appliance business\n",
      "\n",
      "Daniel Edward Aykroyd,  ( AK-royd; born July 1, 1952) is a Canadian actor, producer, comedian, musician, and filmmaker who was an original member of the \"Not Ready for Prime Time Players\" on Saturday Night Live (1975–1979). A musical sketch he performed with John Belushi on SNL, the Blues Brothers, turned into an actual performing band and then the 1980 film The Blues Brothers.\n",
      "He conceived and starred in Ghostbusters (1984), which spawned a sequel and eventually an entire media franchise\n",
      "\n",
      "Danielle Jane Minogue (born 20 October 1971) is an Australian singer, songwriter, actress, model and media personality. She rose to prominence in the early 1980s for her roles in the Australian television talent show Young Talent Time and the soap opera Home and Away, before beginning her career as a pop singer in the early 1990s. Minogue achieved early success with hits such as \"Love and Kisses\", \"This Is It\", \"Jump to the Beat\" and \"Baby Love\", though by the release of her second album, her popularity as a singer had declined, leading her to make a name for herself with award-winning performances in musicals Grease, Notre Dame De Paris and other acting credits The Vagina Monologues and Lady Macbeth\n",
      "\n",
      "David Neil \"Dave\" Cutler Sr. (born March 13, 1942) is an American software engineer, a designer, and a developer of several operating systems in the computer industry.  These operating systems are Microsoft Windows NT, and Digital Equipment Corporation: RSX-11M, VAXELN, VMS (now OpenVMS)\n",
      "\n",
      "David Blaine White (born April 4, 1973) is an American illusionist, endurance artist and extreme performer. He is best known for his high-profile feats of endurance, and has set and broken several world records.\n",
      "Blaine innovated the way magic is shown on television by focusing on spectator reactions\n",
      "\n",
      "David Boies (; born March 11, 1941) is an American lawyer and chairman of the law firm Boies, Schiller & Flexner. Boies rose to national prominence for three major cases: leading the U.S\n",
      "\n",
      "David Gauthier (; born 10 September 1932) is a Canadian-American philosopher best known for his neo-Hobbesian social contract (contractarian) theory of morality, as developed in his 1986 book Morals by Agreement.\n",
      "\n",
      "\n",
      "== Life and career ==\n",
      "Gauthier was born in Toronto in 1932 and educated at the University of Toronto (B.A\n",
      "\n",
      "Sir David John White  (born 2 February 1940), known professionally by his stage name David Jason, is an English actor, comedian, screenwriter, television presenter and producer. He is best known for his roles as Derek \"Del Boy\" Trotter in the BBC comedy series sitcom Only Fools and Horses, Detective Inspector Jack Frost in A Touch of Frost, Granville in Open All Hours and Still Open All Hours, and Pop Larkin in The Darling Buds of May, as well as voicing Mr. Toad in The Wind in the Willows and the title characters of Danger Mouse and Count Duckula\n",
      "\n",
      "James David Graham Niven (; 1 March 1910 – 29 July 1983) was an English actor, memoirist and novelist. His many roles included Squadron Leader Peter Carter in A Matter of Life and Death, Phileas Fogg in Around the World in 80 Days, and Sir Charles Lytton (\"the Phantom\") in The Pink Panther. He won the Academy Award for Best Actor for his performance in Separate Tables (1958)\n",
      "\n",
      "Denise Lee Richards (born February 17, 1971) is an American actress, former fashion model, and television personality. Her most recognized roles are Carmen Ibanez in Starship Troopers (1997), Kelly Van Ryan in Wild Things (1998) and Bond girl Christmas Jones in The World Is Not Enough (1999). She has also appeared in films Drop Dead Gorgeous (1999), Valentine (2001), Undercover Brother (2002), Scary Movie 3 (2003) and Madea's Witness Protection (2012)\n",
      "\n",
      "Desmond Wilkinson Llewelyn (pronounced [ɬɛˈwɛlɪn]; 12 September 1914 – 19 December 1999) was a Welsh actor, best known for his role as Q in 17 of the James Bond films between 1963 and 1999.\n",
      "\n",
      "\n",
      "== Biography ==\n",
      "\n",
      "\n",
      "=== Early life ===\n",
      "Llewelyn was born in Newport, Monmouthshire, the son of Mia (née Wilkinson) and Ivor Llewelyn,. His father was a coal mining engineer\n",
      "\n",
      "Donald Siegel (; October 26, 1912 – April 20, 1991) was an American film director and producer. His name variously appeared in the credits of his films as both  Don Siegel and Donald Siegel.  He is best known for the original sci-fi film Invasion of the Body Snatchers (1956), as well as five films with Clint Eastwood, including the police thriller Dirty Harry (1971) and the prison drama Escape from Alcatraz (1979), and John Wayne's final film, the 1976 Western The Shootist\n",
      "\n",
      "Dudley Stuart John Moore, CBE (19 April 1935 – 27 March 2002) was an English actor, comedian, musician and composer. Moore first came to prominence in the UK as a leading figure in the British satire boom of the 1960s. He was one of the four writer-performers in the comedy revue Beyond the Fringe from 1960 that created a boom in satirical comedy, and with one member of that team, Peter Cook, collaborated on the BBC television series Not Only\n",
      "\n",
      "Dustin Lee Hoffman (born August 8, 1937) is an American actor and filmmaker. He is known for his versatile portrayals of antiheroes and emotionally vulnerable characters. He is the recipient of numerous accolades including two Academy Awards, six Golden Globe Awards\n",
      "(including the Cecil B\n",
      "\n"
     ]
    }
   ],
   "source": [
    "texts_p={}\n",
    "# print(wiki_people)\n",
    "# wp = wikipedia.page('Albert Finned')\n",
    "# print(wp)\n",
    "for entity in wiki_people:\n",
    "    try:\n",
    "        wp = wikipedia.page(entity)\n",
    "        first_three_sentences=wp.content.split('.')[:3]\n",
    "        entity_text=('.').join(first_three_sentences)\n",
    "        texts_p[entity] = entity_text\n",
    "        print(entity_text)\n",
    "        print()\n",
    "    except:\n",
    "        print(entity, \"was not found on wikipedia\")\n",
    "        print()\n",
    "#     print(entity)\n",
    "#     stop\n",
    "#     wp = wikipedia.page(entity)\n",
    "    # get the first 3 sentences of a wikipedia article\n",
    "#     first_three_sentences=wp.content.split('.')[:3]\n",
    "#     entity_text=('.').join(first_three_sentences)\n",
    "#     # create a dictionary (JSON) where the key is your entity, and the value is its 3-sentences wikipedia text. \n",
    "# #     texts[entity]=entity_text\n",
    "#     texts_p[entity] = entity_text\n",
    "#     print(entity_text)\n",
    "#     print()"
   ]
  },
  {
   "cell_type": "code",
   "execution_count": 17,
   "metadata": {},
   "outputs": [
    {
     "name": "stdout",
     "output_type": "stream",
     "text": [
      "['Al Pacino', 'Alan Rickman', 'Albert Finney', 'Alyson Hannigan', 'Andie MacDowell', 'Andrew Lloyd Webber', 'Andrzej Wajda', 'Andrzej Żuławski', 'Angela Davis', 'Anthony Quinn', 'Antonio Banderas', 'Ashley Judd', 'Ava Gardner', 'Barbara Stanwyck', 'Ben Elton', 'Bernardo Bertolucci', 'Betty Marsden', 'Billy Wilder', 'Blake Edwards', 'Bob Black', 'Bob Keeshan', 'Brad Pitt', 'Cameron Diaz', 'Carmen Miranda', 'Carole Lombard', 'Catherine Deneuve', 'Cesare Zavattini', 'Chandra Levy', 'Charlton Heston', 'Chaz Bono', 'Christine McVie', 'Christopher Lambert', 'Christopher Lee', 'Clark Gable', 'Clint Eastwood', 'Clive Sinclair', 'Cybill Shepherd', 'Dan Aykroyd', 'Dannii Minogue', 'Dave Cutler', 'David Blaine', 'David Boies', 'David Gauthier', 'David Jason', 'David Niven', 'Denise Richards', 'Desmond Llewelyn', 'Don Siegel', 'Dudley Moore', 'Dustin Hoffman']\n",
      "entity is Al Pacino\n",
      "manu_predicates ['manufactured', 'produced', 'developed']\n"
     ]
    },
    {
     "ename": "KeyError",
     "evalue": "'Al Pacino'",
     "output_type": "error",
     "traceback": [
      "\u001b[0;31m---------------------------------------------------------------------------\u001b[0m",
      "\u001b[0;31mKeyError\u001b[0m                                  Traceback (most recent call last)",
      "\u001b[0;32m<ipython-input-17-16097916a386>\u001b[0m in \u001b[0;36m<module>\u001b[0;34m\u001b[0m\n\u001b[1;32m      9\u001b[0m     \u001b[0mprint\u001b[0m\u001b[0;34m(\u001b[0m\u001b[0;34m'entity is'\u001b[0m\u001b[0;34m,\u001b[0m\u001b[0mentity\u001b[0m\u001b[0;34m)\u001b[0m\u001b[0;34m\u001b[0m\u001b[0;34m\u001b[0m\u001b[0m\n\u001b[1;32m     10\u001b[0m     \u001b[0mprint\u001b[0m\u001b[0;34m(\u001b[0m\u001b[0;34m'manu_predicates'\u001b[0m\u001b[0;34m,\u001b[0m\u001b[0mmanu_predicates\u001b[0m\u001b[0;34m)\u001b[0m\u001b[0;34m\u001b[0m\u001b[0;34m\u001b[0m\u001b[0m\n\u001b[0;32m---> 11\u001b[0;31m     \u001b[0mprint\u001b[0m\u001b[0;34m(\u001b[0m\u001b[0mnlp\u001b[0m\u001b[0;34m(\u001b[0m\u001b[0mtexts_p\u001b[0m\u001b[0;34m[\u001b[0m\u001b[0mentity\u001b[0m\u001b[0;34m]\u001b[0m\u001b[0;34m)\u001b[0m\u001b[0;34m)\u001b[0m\u001b[0;34m\u001b[0m\u001b[0;34m\u001b[0m\u001b[0m\n\u001b[0m\u001b[1;32m     12\u001b[0m     \u001b[0mborn_relations\u001b[0m\u001b[0;34m=\u001b[0m\u001b[0mextract_birth_year_dep\u001b[0m\u001b[0;34m(\u001b[0m\u001b[0mnlp\u001b[0m\u001b[0;34m(\u001b[0m\u001b[0mtexts_p\u001b[0m\u001b[0;34m[\u001b[0m\u001b[0mentity\u001b[0m\u001b[0;34m]\u001b[0m\u001b[0;34m)\u001b[0m\u001b[0;34m,\u001b[0m \u001b[0mborn_patterns\u001b[0m\u001b[0;34m)\u001b[0m\u001b[0;34m\u001b[0m\u001b[0;34m\u001b[0m\u001b[0m\n\u001b[1;32m     13\u001b[0m     \u001b[0mprint\u001b[0m\u001b[0;34m(\u001b[0m\u001b[0;34m\"relation  is\"\u001b[0m\u001b[0;34m,\u001b[0m\u001b[0mborn_relations\u001b[0m\u001b[0;34m)\u001b[0m\u001b[0;34m\u001b[0m\u001b[0;34m\u001b[0m\u001b[0m\n",
      "\u001b[0;31mKeyError\u001b[0m: 'Al Pacino'"
     ]
    }
   ],
   "source": [
    "birthyear_regex={} \n",
    "birthyear_dep={}\n",
    "\n",
    "texts_p\n",
    "print(wiki_people)\n",
    "born_patterns=['born in', 'birthdate', 'born on']\n",
    "\n",
    "for entity in wiki_people:\n",
    "    print('entity is',entity)\n",
    "    print('manu_predicates',manu_predicates)\n",
    "    print(nlp(texts_p[entity]))\n",
    "    born_relations=extract_birth_year_dep(nlp(texts_p[entity]), born_patterns)\n",
    "    print(\"relation  is\",born_relations)\n",
    "    print()\n",
    "    birthyear_dep.update(born_relations)\n",
    "    #manufacturers_dep[entity]=manu_relation[1]\n",
    "    \n",
    "    \n",
    "\n",
    "for entity in wiki_people:\n",
    "    print('entity is',entity)\n",
    "    print('manu_predicates',manu_predicates)\n",
    "    print(nlp(texts_p[entity]))\n",
    "    born_relations=extract_birth_year_regex(nlp(texts_p[entity]), born_patterns)\n",
    "    print(\"relation  is\",born_relations)\n",
    "    print()\n",
    "    birthyear_regex.update(born_relations)\n",
    "    #manufacturers_dep[entity]=manu_relation[1]\n",
    "    \n",
    "    \n"
   ]
  },
  {
   "cell_type": "markdown",
   "metadata": {},
   "source": [
    "**Exercise 3b** Run your extractors about manufacturers of devices (from exercise 2a and 2b) on all 50 documents about devices. Make sure you only process the first three sentences from each document. Save the extracted values in two lists: `manufacturers_regex` and `manufacturers_dep`. (3 points)"
   ]
  },
  {
   "cell_type": "code",
   "execution_count": 23,
   "metadata": {},
   "outputs": [
    {
     "name": "stdout",
     "output_type": "stream",
     "text": [
      "3DO Interactive Multiplayer\n",
      "The 3DO Interactive Multiplayer, often called the 3DO, is a home video game console developed by The 3DO Company. Conceived by entrepreneur and Electronic Arts founder Trip Hawkins, the 3DO was not a console manufactured by the company itself, but a series of specifications, originally designed by Dave Needle and R. J\n",
      "\n",
      "PDP-7\n",
      "The PDP-7 was a minicomputer produced by Digital Equipment Corporation as part of the PDP series. Introduced in 1964, shipped since 1965, it was the first to use their Flip-Chip technology. With a cost of US$72,000, it was cheap but powerful by the standards of the time\n",
      "\n",
      "TRS-80 Color Computer\n",
      "The RadioShack TRS-80 Color Computer (later marketed as the Tandy Color Computer and sometimes nicknamed the CoCo) is a line of home computers based on the Motorola 6809 processor. The Tandy Color Computer line started in 1980 with what is now called the CoCo 1 and ended in 1991 with the more powerful CoCo 3. All three CoCo models maintained a high level of software and hardware compatibility, with few programs written for the older model being unable to run on the newer ones\n",
      "\n",
      "Walkman\n",
      "Walkman is a brand of portable media players manufactured by Sony. The original Walkman, released in 1979, was a portable cassette player that changed listening habits by allowing people to listen to music of their choice on the move. It was devised by Sony founders Masaru Ibuka and Akio Morita, who felt Sony's existing portable player was too unwieldy and expensive\n",
      "\n",
      "Sega TeraDrive\n",
      "The TeraDrive (テラドライブ, TeraDoraibu) is an IBM PC compatible system with an integrated Mega Drive, developed by Sega and manufactured by IBM in 1991. The TeraDrive allowed for Mega Drive games to be played the same time as the PC section is being used, as it is possible for the Mega Drive and PC hardware to interact with each other.\n",
      "The system was only released in Japan, as Sega hoped that integrating the then popular Mega Drive console into an IBM PC would attract potential customers wishing to purchase a PC\n",
      "\n",
      "GameCube\n",
      "The Nintendo GameCube (commonly abbreviated as GameCube) is a home video game console released by Nintendo in Japan and North America in 2001 and in the PAL territories in 2002. The sixth-generation console is the successor to the Nintendo 64. It competed with Sony's PlayStation 2 and Microsoft's original Xbox\n",
      "\n",
      "Cray-1\n",
      "The Cray-1 was a supercomputer designed, manufactured and marketed by Cray Research. Announced in 1975, the first Cray-1 system was installed at Los Alamos National Laboratory in 1976. Eventually, over 100 Cray-1's were sold, making it one of the most successful supercomputers in history\n",
      "\n",
      "Sega CD\n",
      "The Sega CD, released as the Mega-CD in most regions outside North America and Brazil, is a CD-ROM accessory for the Sega Genesis designed and produced by Sega as part of the fourth generation of video game consoles. It was released on December 12, 1991 in Japan, October 15, 1992 in North America, and April 2, 1993 in Europe. The Sega CD plays CD-based games and adds hardware functionality such as a faster central processing unit and graphic enhancements\n",
      "\n",
      "32X\n",
      "The 32X is an add-on for the Sega Genesis video game console. Codenamed \"Project Mars\", the 32X was designed to expand the power of the Genesis and serve as a transitional console into the 32-bit era until the release of the Sega Saturn. Independent of the Genesis, the 32X uses its own ROM cartridges and has its own library of games\n",
      "\n",
      "Game Gear\n",
      "{'3DO Interactive Multiplayer': 'The 3DO Interactive Multiplayer, often called the 3DO, is a home video game console developed by The 3DO Company. Conceived by entrepreneur and Electronic Arts founder Trip Hawkins, the 3DO was not a console manufactured by the company itself, but a series of specifications, originally designed by Dave Needle and R. J', 'PDP-7': 'The PDP-7 was a minicomputer produced by Digital Equipment Corporation as part of the PDP series. Introduced in 1964, shipped since 1965, it was the first to use their Flip-Chip technology. With a cost of US$72,000, it was cheap but powerful by the standards of the time', 'TRS-80 Color Computer': 'The RadioShack TRS-80 Color Computer (later marketed as the Tandy Color Computer and sometimes nicknamed the CoCo) is a line of home computers based on the Motorola 6809 processor. The Tandy Color Computer line started in 1980 with what is now called the CoCo 1 and ended in 1991 with the more powerful CoCo 3. All three CoCo models maintained a high level of software and hardware compatibility, with few programs written for the older model being unable to run on the newer ones', 'Walkman': \"Walkman is a brand of portable media players manufactured by Sony. The original Walkman, released in 1979, was a portable cassette player that changed listening habits by allowing people to listen to music of their choice on the move. It was devised by Sony founders Masaru Ibuka and Akio Morita, who felt Sony's existing portable player was too unwieldy and expensive\", 'Sega TeraDrive': 'The TeraDrive (テラドライブ, TeraDoraibu) is an IBM PC compatible system with an integrated Mega Drive, developed by Sega and manufactured by IBM in 1991. The TeraDrive allowed for Mega Drive games to be played the same time as the PC section is being used, as it is possible for the Mega Drive and PC hardware to interact with each other.\\nThe system was only released in Japan, as Sega hoped that integrating the then popular Mega Drive console into an IBM PC would attract potential customers wishing to purchase a PC', 'GameCube': \"The Nintendo GameCube (commonly abbreviated as GameCube) is a home video game console released by Nintendo in Japan and North America in 2001 and in the PAL territories in 2002. The sixth-generation console is the successor to the Nintendo 64. It competed with Sony's PlayStation 2 and Microsoft's original Xbox\", 'Cray-1': \"The Cray-1 was a supercomputer designed, manufactured and marketed by Cray Research. Announced in 1975, the first Cray-1 system was installed at Los Alamos National Laboratory in 1976. Eventually, over 100 Cray-1's were sold, making it one of the most successful supercomputers in history\", 'Sega CD': 'The Sega CD, released as the Mega-CD in most regions outside North America and Brazil, is a CD-ROM accessory for the Sega Genesis designed and produced by Sega as part of the fourth generation of video game consoles. It was released on December 12, 1991 in Japan, October 15, 1992 in North America, and April 2, 1993 in Europe. The Sega CD plays CD-based games and adds hardware functionality such as a faster central processing unit and graphic enhancements', '32X': 'The 32X is an add-on for the Sega Genesis video game console. Codenamed \"Project Mars\", the 32X was designed to expand the power of the Genesis and serve as a transitional console into the 32-bit era until the release of the Sega Saturn. Independent of the Genesis, the 32X uses its own ROM cartridges and has its own library of games'}\n"
     ]
    }
   ],
   "source": [
    "textsdev={}\n",
    "wiki_devices\n",
    "for entity in wiki_devices:\n",
    "    print(entity)\n",
    "    if entity == 'Game Gear':\n",
    "        break    # break here\n",
    "    wp = wikipedia.page(entity)\n",
    "    # get the first 3 sentences of a wikipedia article\n",
    "    first_three_sentences=wp.content.split('.')[:3]\n",
    "    entity_text=('.').join(first_three_sentences)\n",
    "    # create a dictionary (JSON) where the key is your entity, and the value is its 3-sentences wikipedia text. \n",
    "    textsdev[entity]=entity_text\n",
    "    print(entity_text)\n",
    "    print()\n",
    "    \n",
    "print(textsdev)\n"
   ]
  },
  {
   "cell_type": "code",
   "execution_count": 165,
   "metadata": {},
   "outputs": [
    {
     "name": "stdout",
     "output_type": "stream",
     "text": [
      "['3DO Interactive Multiplayer', 'PDP-7', 'TRS-80 Color Computer', 'Walkman', 'Sega TeraDrive', 'GameCube', 'Cray-1', 'Sega CD', '32X', 'Game Gear', 'Sega Saturn', 'TRS-80', 'Vectrex', 'PalmPilot', 'ZX81', 'Volkswagen D24TIC engine', 'Volkswagen D24T engine', 'Volkswagen D24 engine', 'Spice MI-335 (Stellar Craze)', 'Spice Stellar Nhance Mi-435', 'Arirang (smartphone)', 'Micro-Professor MPF-I', 'HTC Touch Diamond2', 'HTC Touch 3G', 'HTC Touch Viva', 'Aakash (tablet)', 'Typekit', 'IPod Mini', 'Mac Mini', 'BMW M2B15', 'Coleco Gemini', 'Zune HD', 'Zune 30', 'Zune 4, 8, 16', 'Zune 80, 120', 'Motorola Hint QA30', 'Motorola W233', 'Motodext', 'Motorola A3100', 'Motorola Aura', 'Motorola Calgary', 'Motorola Photon Q', 'Motorola i1', 'NES Advantage', 'Game Boy', 'Nokia 6210 Navigator', 'Nokia 6710 Navigator', 'Nokia 5320 XpressMusic']\n",
      "entity is 3DO Interactive Multiplayer\n",
      "manu_predicates ['manufactured', 'produced', 'developed']\n",
      "The 3DO Interactive Multiplayer, often called the 3DO, is a home video game console developed by The 3DO Company. Conceived by entrepreneur and Electronic Arts founder Trip Hawkins, the 3DO was not a console manufactured by the company itself, but a series of specifications, originally designed by Dave Needle and R. J\n",
      "relation  is {}\n",
      "\n",
      "entity is PDP-7\n",
      "manu_predicates ['manufactured', 'produced', 'developed']\n",
      "The PDP-7 was a minicomputer produced by Digital Equipment Corporation as part of the PDP series. Introduced in 1964, shipped since 1965, it was the first to use their Flip-Chip technology. With a cost of US$72,000, it was cheap but powerful by the standards of the time\n",
      "relation  is {}\n",
      "\n",
      "entity is TRS-80 Color Computer\n",
      "manu_predicates ['manufactured', 'produced', 'developed']\n",
      "The RadioShack TRS-80 Color Computer (later marketed as the Tandy Color Computer and sometimes nicknamed the CoCo) is a line of home computers based on the Motorola 6809 processor. The Tandy Color Computer line started in 1980 with what is now called the CoCo 1 and ended in 1991 with the more powerful CoCo 3. All three CoCo models maintained a high level of software and hardware compatibility, with few programs written for the older model being unable to run on the newer ones\n",
      "relation  is {}\n",
      "\n",
      "entity is Walkman\n",
      "manu_predicates ['manufactured', 'produced', 'developed']\n",
      "Walkman is a brand of portable media players manufactured by Sony. The original Walkman, released in 1979, was a portable cassette player that changed listening habits by allowing people to listen to music of their choice on the move. It was devised by Sony founders Masaru Ibuka and Akio Morita, who felt Sony's existing portable player was too unwieldy and expensive\n",
      "relation  is {}\n",
      "\n",
      "entity is Sega TeraDrive\n",
      "manu_predicates ['manufactured', 'produced', 'developed']\n",
      "The TeraDrive (テラドライブ, TeraDoraibu) is an IBM PC compatible system with an integrated Mega Drive, developed by Sega and manufactured by IBM in 1991. The TeraDrive allowed for Mega Drive games to be played the same time as the PC section is being used, as it is possible for the Mega Drive and PC hardware to interact with each other.\n",
      "The system was only released in Japan, as Sega hoped that integrating the then popular Mega Drive console into an IBM PC would attract potential customers wishing to purchase a PC\n",
      "relation  is {}\n",
      "\n",
      "entity is GameCube\n",
      "manu_predicates ['manufactured', 'produced', 'developed']\n",
      "The Nintendo GameCube (commonly abbreviated as GameCube) is a home video game console released by Nintendo in Japan and North America in 2001 and in the PAL territories in 2002. The sixth-generation console is the successor to the Nintendo 64. It competed with Sony's PlayStation 2 and Microsoft's original Xbox\n",
      "relation  is {}\n",
      "\n",
      "entity is Cray-1\n",
      "manu_predicates ['manufactured', 'produced', 'developed']\n",
      "The Cray-1 was a supercomputer designed, manufactured and marketed by Cray Research. Announced in 1975, the first Cray-1 system was installed at Los Alamos National Laboratory in 1976. Eventually, over 100 Cray-1's were sold, making it one of the most successful supercomputers in history\n",
      "relation  is {}\n",
      "\n",
      "entity is Sega CD\n",
      "manu_predicates ['manufactured', 'produced', 'developed']\n",
      "The Sega CD, released as the Mega-CD in most regions outside North America and Brazil, is a CD-ROM accessory for the Sega Genesis designed and produced by Sega as part of the fourth generation of video game consoles. It was released on December 12, 1991 in Japan, October 15, 1992 in North America, and April 2, 1993 in Europe. The Sega CD plays CD-based games and adds hardware functionality such as a faster central processing unit and graphic enhancements\n",
      "relation  is {}\n",
      "\n",
      "entity is 32X\n",
      "manu_predicates ['manufactured', 'produced', 'developed']\n",
      "The 32X is an add-on for the Sega Genesis video game console. Codenamed \"Project Mars\", the 32X was designed to expand the power of the Genesis and serve as a transitional console into the 32-bit era until the release of the Sega Saturn. Independent of the Genesis, the 32X uses its own ROM cartridges and has its own library of games\n",
      "relation  is {}\n",
      "\n",
      "entity is 3DO Interactive Multiplayer\n",
      "manu_predicates ['manufactured', 'produced', 'developed']\n",
      "The 3DO Interactive Multiplayer, often called the 3DO, is a home video game console developed by The 3DO Company. Conceived by entrepreneur and Electronic Arts founder Trip Hawkins, the 3DO was not a console manufactured by the company itself, but a series of specifications, originally designed by Dave Needle and R. J\n",
      "relation  is {}\n",
      "\n",
      "entity is PDP-7\n",
      "manu_predicates ['manufactured', 'produced', 'developed']\n",
      "The PDP-7 was a minicomputer produced by Digital Equipment Corporation as part of the PDP series. Introduced in 1964, shipped since 1965, it was the first to use their Flip-Chip technology. With a cost of US$72,000, it was cheap but powerful by the standards of the time\n",
      "relation  is {}\n",
      "\n",
      "entity is TRS-80 Color Computer\n",
      "manu_predicates ['manufactured', 'produced', 'developed']\n",
      "The RadioShack TRS-80 Color Computer (later marketed as the Tandy Color Computer and sometimes nicknamed the CoCo) is a line of home computers based on the Motorola 6809 processor. The Tandy Color Computer line started in 1980 with what is now called the CoCo 1 and ended in 1991 with the more powerful CoCo 3. All three CoCo models maintained a high level of software and hardware compatibility, with few programs written for the older model being unable to run on the newer ones\n",
      "relation  is {}\n",
      "\n",
      "entity is Walkman\n",
      "manu_predicates ['manufactured', 'produced', 'developed']\n",
      "Walkman is a brand of portable media players manufactured by Sony. The original Walkman, released in 1979, was a portable cassette player that changed listening habits by allowing people to listen to music of their choice on the move. It was devised by Sony founders Masaru Ibuka and Akio Morita, who felt Sony's existing portable player was too unwieldy and expensive\n",
      "relation  is {}\n",
      "\n",
      "entity is Sega TeraDrive\n",
      "manu_predicates ['manufactured', 'produced', 'developed']\n",
      "The TeraDrive (テラドライブ, TeraDoraibu) is an IBM PC compatible system with an integrated Mega Drive, developed by Sega and manufactured by IBM in 1991. The TeraDrive allowed for Mega Drive games to be played the same time as the PC section is being used, as it is possible for the Mega Drive and PC hardware to interact with each other.\n",
      "The system was only released in Japan, as Sega hoped that integrating the then popular Mega Drive console into an IBM PC would attract potential customers wishing to purchase a PC\n",
      "relation  is {}\n",
      "\n",
      "entity is GameCube\n",
      "manu_predicates ['manufactured', 'produced', 'developed']\n",
      "The Nintendo GameCube (commonly abbreviated as GameCube) is a home video game console released by Nintendo in Japan and North America in 2001 and in the PAL territories in 2002. The sixth-generation console is the successor to the Nintendo 64. It competed with Sony's PlayStation 2 and Microsoft's original Xbox\n",
      "relation  is {}\n",
      "\n",
      "entity is Cray-1\n",
      "manu_predicates ['manufactured', 'produced', 'developed']\n",
      "The Cray-1 was a supercomputer designed, manufactured and marketed by Cray Research. Announced in 1975, the first Cray-1 system was installed at Los Alamos National Laboratory in 1976. Eventually, over 100 Cray-1's were sold, making it one of the most successful supercomputers in history\n",
      "relation  is {}\n",
      "\n",
      "entity is Sega CD\n",
      "manu_predicates ['manufactured', 'produced', 'developed']\n",
      "The Sega CD, released as the Mega-CD in most regions outside North America and Brazil, is a CD-ROM accessory for the Sega Genesis designed and produced by Sega as part of the fourth generation of video game consoles. It was released on December 12, 1991 in Japan, October 15, 1992 in North America, and April 2, 1993 in Europe. The Sega CD plays CD-based games and adds hardware functionality such as a faster central processing unit and graphic enhancements\n",
      "relation  is {}\n",
      "\n",
      "entity is 32X\n",
      "manu_predicates ['manufactured', 'produced', 'developed']\n",
      "The 32X is an add-on for the Sega Genesis video game console. Codenamed \"Project Mars\", the 32X was designed to expand the power of the Genesis and serve as a transitional console into the 32-bit era until the release of the Sega Saturn. Independent of the Genesis, the 32X uses its own ROM cartridges and has its own library of games\n",
      "relation  is {}\n",
      "\n"
     ]
    }
   ],
   "source": [
    "manufacturers_regex={}\n",
    "manufacturers_dep={}\n",
    "textsdev\n",
    "print(wiki_devices)\n",
    "manu_predicates=['manufactured', 'produced', 'developed']\n",
    "\n",
    "for entity in wiki_devices:\n",
    "    if entity == 'Game Gear':\n",
    "        break    # break here\n",
    "    print('entity is',entity)\n",
    "    print('manu_predicates',manu_predicates)\n",
    "    print(nlp(textsdev[entity]))\n",
    "    manu_relations=extract_manufacturer(nlp(textsdev[entity]), manu_predicates, entity)\n",
    "    print(\"relation  is\",manu_relations)\n",
    "    print()\n",
    "    manufacturers_dep.update(manu_relations)\n",
    "    #manufacturers_dep[entity]=manu_relation[1]\n",
    "    \n",
    "    \n",
    "    \n",
    "for entity in wiki_devices:\n",
    "    if entity == 'Game Gear':\n",
    "        break    # break here\n",
    "    print('entity is',entity)\n",
    "    print('manu_predicates',manu_predicates)\n",
    "    print(nlp(textsdev[entity]))\n",
    "    manu_relations=extract_manufacturer_regex(nlp(textsdev[entity]), manu_predicates, entity)\n",
    "    print(\"relation  is\",manu_relations)\n",
    "    print()\n",
    "    manufacturers_regex.update(manu_relations)\n",
    "    #manufacturers_regex[entity]=manu_relation[1]\n",
    "    \n"
   ]
  },
  {
   "cell_type": "markdown",
   "metadata": {},
   "source": [
    "**Exercise 3c** Run the evaluation function `evaluate_property` to compute the performance for each of your four functions. Print the precision, recall, and F1-scores. (2 points)"
   ]
  },
  {
   "cell_type": "code",
   "execution_count": 166,
   "metadata": {},
   "outputs": [
    {
     "ename": "NameError",
     "evalue": "name 'birthyear_regex' is not defined",
     "output_type": "error",
     "traceback": [
      "\u001b[0;31m---------------------------------------------------------------------------\u001b[0m",
      "\u001b[0;31mNameError\u001b[0m                                 Traceback (most recent call last)",
      "\u001b[0;32m<ipython-input-166-d778d73dbb18>\u001b[0m in \u001b[0;36m<module>\u001b[0;34m\u001b[0m\n\u001b[0;32m----> 1\u001b[0;31m \u001b[0mprint\u001b[0m\u001b[0;34m(\u001b[0m\u001b[0mutils\u001b[0m\u001b[0;34m.\u001b[0m\u001b[0mevaluate_property\u001b[0m\u001b[0;34m(\u001b[0m\u001b[0mbirthyear_regex\u001b[0m\u001b[0;34m,\u001b[0m \u001b[0mgold_birthyears\u001b[0m\u001b[0;34m)\u001b[0m\u001b[0;34m)\u001b[0m\u001b[0;34m\u001b[0m\u001b[0;34m\u001b[0m\u001b[0m\n\u001b[0m\u001b[1;32m      2\u001b[0m \u001b[0mprint\u001b[0m\u001b[0;34m(\u001b[0m\u001b[0mutils\u001b[0m\u001b[0;34m.\u001b[0m\u001b[0mevaluate_property\u001b[0m\u001b[0;34m(\u001b[0m\u001b[0mmanufacturers_dep\u001b[0m\u001b[0;34m,\u001b[0m \u001b[0mgold_manufacturers\u001b[0m\u001b[0;34m)\u001b[0m\u001b[0;34m)\u001b[0m\u001b[0;34m\u001b[0m\u001b[0;34m\u001b[0m\u001b[0m\n\u001b[1;32m      3\u001b[0m \u001b[0;34m\u001b[0m\u001b[0m\n\u001b[1;32m      4\u001b[0m \u001b[0mprint\u001b[0m\u001b[0;34m(\u001b[0m\u001b[0mutils\u001b[0m\u001b[0;34m.\u001b[0m\u001b[0mevaluate_property\u001b[0m\u001b[0;34m(\u001b[0m\u001b[0mbirthyear_dep\u001b[0m\u001b[0;34m,\u001b[0m \u001b[0mgold_birthyears\u001b[0m\u001b[0;34m)\u001b[0m\u001b[0;34m)\u001b[0m\u001b[0;34m\u001b[0m\u001b[0;34m\u001b[0m\u001b[0m\n\u001b[1;32m      5\u001b[0m \u001b[0mprint\u001b[0m\u001b[0;34m(\u001b[0m\u001b[0mutils\u001b[0m\u001b[0;34m.\u001b[0m\u001b[0mevaluate_property\u001b[0m\u001b[0;34m(\u001b[0m\u001b[0mmanufacturers_regex\u001b[0m\u001b[0;34m,\u001b[0m \u001b[0mgold_manufacturers\u001b[0m\u001b[0;34m)\u001b[0m\u001b[0;34m)\u001b[0m\u001b[0;34m\u001b[0m\u001b[0;34m\u001b[0m\u001b[0m\n",
      "\u001b[0;31mNameError\u001b[0m: name 'birthyear_regex' is not defined"
     ]
    }
   ],
   "source": [
    "print(utils.evaluate_property(birthyear_regex, gold_birthyears))\n",
    "print(utils.evaluate_property(manufacturers_dep, gold_manufacturers))\n",
    "\n",
    "print(utils.evaluate_property(birthyear_dep, gold_birthyears))\n",
    "print(utils.evaluate_property(manufacturers_regex, gold_manufacturers))\n",
    "\n"
   ]
  },
  {
   "cell_type": "markdown",
   "metadata": {},
   "source": [
    "### 4. Reflection (8 points)\n",
    "\n",
    "For each entity, we will now compare the two methods to extract properties in terms of precision and recall."
   ]
  },
  {
   "cell_type": "markdown",
   "metadata": {},
   "source": [
    "**Question 4a** Comparing the precision between the methods based on regular expressions and on syntax dependencies:\n",
    "* Which method yields lower precision?\n",
    "* Why do you think this is the case?\n",
    "* Give an example to support your argument.\n",
    "\n",
    "(4 points)"
   ]
  },
  {
   "cell_type": "code",
   "execution_count": null,
   "metadata": {},
   "outputs": [],
   "source": [
    "# Your answer here..."
   ]
  },
  {
   "cell_type": "markdown",
   "metadata": {},
   "source": [
    "**Question 4b** Let's compare the recall for both properties. \n",
    "* Which method yields lower recall?\n",
    "* Why do you think this is the case?\n",
    "* Give an example to support your argument.\n",
    "\n",
    "(4 points)"
   ]
  },
  {
   "cell_type": "code",
   "execution_count": 13,
   "metadata": {},
   "outputs": [],
   "source": [
    "# Your answer here..."
   ]
  }
 ],
 "metadata": {
  "kernelspec": {
   "display_name": "Python 3",
   "language": "python",
   "name": "python3"
  },
  "language_info": {
   "codemirror_mode": {
    "name": "ipython",
    "version": 3
   },
   "file_extension": ".py",
   "mimetype": "text/x-python",
   "name": "python",
   "nbconvert_exporter": "python",
   "pygments_lexer": "ipython3",
   "version": "3.7.4"
  }
 },
 "nbformat": 4,
 "nbformat_minor": 4
}
