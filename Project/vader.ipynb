{
 "cells": [
  {
   "cell_type": "code",
   "execution_count": 46,
   "metadata": {},
   "outputs": [],
   "source": [
    "#Importing \n",
    "import numpy as np # linear algebra\n",
    "import pandas as pd # data processing, CSV file I/O (e.g. pd.read_csv)\n",
    "import nltk  \n",
    "from nltk.sentiment import vader\n",
    "from nltk.sentiment.vader import SentimentIntensityAnalyzer\n",
    "import spacy\n",
    "nlp = spacy.load('en')\n",
    "vader_model = SentimentIntensityAnalyzer()"
   ]
  },
  {
   "cell_type": "code",
   "execution_count": 47,
   "metadata": {},
   "outputs": [],
   "source": [
    "data = pd.read_csv('train-balanced-sarcasm.csv')"
   ]
  },
  {
   "cell_type": "code",
   "execution_count": 49,
   "metadata": {},
   "outputs": [],
   "source": [
    "empty_comments = data[\"comment\"].isna()\n",
    "empty_comments = data[empty_comments].index\n",
    "data.drop(empty_comments, axis=0, inplace=True)"
   ]
  },
  {
   "cell_type": "code",
   "execution_count": 51,
   "metadata": {},
   "outputs": [],
   "source": [
    "def run_vader(textual_unit, \n",
    "              lemmatize=False, \n",
    "              parts_of_speech_to_consider=set(),\n",
    "              verbose=0):\n",
    "    \"\"\"\n",
    "    Run VADER on a sentence from spacy\n",
    "    \n",
    "    :param str textual unit: a textual unit, e.g., sentence, sentences (one string)\n",
    "    (by looping over doc.sents)\n",
    "    :param bool lemmatize: If True, provide lemmas to VADER instead of words\n",
    "    :param set parts_of_speech_to_consider:\n",
    "    -empty set -> all parts of speech are provided\n",
    "    -non-empty set: only these parts of speech are considered\n",
    "    :param int verbose: if set to 1, information is printed\n",
    "    about input and output\n",
    "    \n",
    "    :rtype: dict\n",
    "    :return: vader output dict\n",
    "    \"\"\"\n",
    "    doc = nlp(textual_unit)\n",
    "        \n",
    "    input_to_vader = []\n",
    "\n",
    "    for sent in doc.sents:\n",
    "        for token in sent:\n",
    "\n",
    "            to_add = token.text\n",
    "\n",
    "            if lemmatize:\n",
    "                to_add = token.lemma_\n",
    "\n",
    "                if to_add == '-PRON-': \n",
    "                    to_add = token.text\n",
    "\n",
    "            if parts_of_speech_to_consider:\n",
    "                if token.pos_ in parts_of_speech_to_consider:\n",
    "                    input_to_vader.append(to_add) \n",
    "            else:\n",
    "                input_to_vader.append(to_add)\n",
    "\n",
    "    scores = vader_model.polarity_scores(' '.join(input_to_vader))\n",
    "    \n",
    "    if verbose >= 1:\n",
    "        print()\n",
    "        print('INPUT SENTENCE', sent)\n",
    "        print('INPUT TO VADER', input_to_vader)\n",
    "        print('VADER OUTPUT', scores)\n",
    "\n",
    "    return scores"
   ]
  },
  {
   "cell_type": "code",
   "execution_count": 52,
   "metadata": {},
   "outputs": [],
   "source": [
    "def vader_output_to_label(vader_output):\n",
    "    \"\"\"\n",
    "    map vader output e.g.,\n",
    "    {'neg': 0.0, 'neu': 0.0, 'pos': 1.0, 'compound': 0.4215}\n",
    "    to one of the following values:\n",
    "    a) positive float -> 'positive'\n",
    "    b) 0.0 -> 'neutral'\n",
    "    c) negative float -> 'negative'\n",
    "    \n",
    "    :param dict vader_output: output dict from vader\n",
    "    \n",
    "    :rtype: str\n",
    "    :return: 'negative' | 'neutral' | 'positive'\n",
    "    \"\"\"\n",
    "    compound = vader_output['compound']\n",
    "    \n",
    "    if compound < 0.0:\n",
    "        return 'negative'\n",
    "    elif compound == 0.0:\n",
    "        return 'neutral'\n",
    "    elif compound > 0.0:\n",
    "        return 'positive'"
   ]
  },
  {
   "cell_type": "markdown",
   "metadata": {},
   "source": [
    "### **sentiment analysis of sarcastic comments:**\n",
    "\n",
    "#### Parent comments:"
   ]
  },
  {
   "cell_type": "code",
   "execution_count": 54,
   "metadata": {},
   "outputs": [
    {
     "name": "stdout",
     "output_type": "stream",
     "text": [
      "The dumb thing is, they are risking their seller account, too. => negative\n",
      "{'neg': 0.384, 'neu': 0.616, 'pos': 0.0, 'compound': -0.6808}\n",
      "\n",
      "Clinton campaign accuses FBI of 'blatant double standard' => negative\n",
      "{'neg': 0.255, 'neu': 0.745, 'pos': 0.0, 'compound': -0.34}\n",
      "\n",
      "Anyone else think that it was interesting the way she mentioned that she had a tape recorder in her hand while he was assaulting her... => positive\n",
      "{'neg': 0.106, 'neu': 0.705, 'pos': 0.189, 'compound': 0.3818}\n",
      "\n",
      "Here's what happens when Obama gives up his Twitter account => neutral\n",
      "{'neg': 0.0, 'neu': 1.0, 'pos': 0.0, 'compound': 0.0}\n",
      "\n",
      "Monday night Drinking thread Brought to You by Infuriating capitalization Inconsistencies => negative\n",
      "{'neg': 0.254, 'neu': 0.746, 'pos': 0.0, 'compound': -0.5267}\n",
      "\n"
     ]
    }
   ],
   "source": [
    "for comment in data[data[\"label\"] == 1][\"parent_comment\"][:5]:\n",
    "    print(comment, \"=>\", vader_output_to_label(run_vader(comment, lemmatize=False)))\n",
    "    print(run_vader(comment, lemmatize=False))\n",
    "    print()"
   ]
  },
  {
   "cell_type": "markdown",
   "metadata": {},
   "source": [
    "#### comments:"
   ]
  },
  {
   "cell_type": "code",
   "execution_count": 55,
   "metadata": {},
   "outputs": [
    {
     "name": "stdout",
     "output_type": "stream",
     "text": [
      "But they'll have all those reviews! => neutral\n",
      "{'neg': 0.0, 'neu': 1.0, 'pos': 0.0, 'compound': 0.0}\n",
      "\n",
      "wow it is totally unreasonable to assume that the agency that covered up Bush war crimes because \"muh republican party\" would be partisan as fuck => negative\n",
      "{'neg': 0.212, 'neu': 0.602, 'pos': 0.186, 'compound': -0.2263}\n",
      "\n",
      "Ho ho ho... But Melania said that there is no way it could have happened because she didn't know the woman! => negative\n",
      "{'neg': 0.102, 'neu': 0.898, 'pos': 0.0, 'compound': -0.3595}\n",
      "\n",
      "I can't wait until @potus starts a twitter war against Morning Joe. => negative\n",
      "{'neg': 0.281, 'neu': 0.719, 'pos': 0.0, 'compound': -0.5994}\n",
      "\n",
      "gotta love the teachers who give exams on the day after halloween => positive\n",
      "{'neg': 0.0, 'neu': 0.741, 'pos': 0.259, 'compound': 0.6369}\n",
      "\n"
     ]
    }
   ],
   "source": [
    "#SARCASTIC sentiment analisys\n",
    "for comment in data[data[\"label\"] == 1][\"comment\"][:5]:\n",
    "    print(comment, \"=>\", vader_output_to_label(run_vader(comment, lemmatize=False)))\n",
    "    print(run_vader(comment, lemmatize=False))\n",
    "    print()"
   ]
  },
  {
   "cell_type": "code",
   "execution_count": 56,
   "metadata": {},
   "outputs": [
    {
     "name": "stdout",
     "output_type": "stream",
     "text": [
      "But they'll have all those reviews! => neutral\n",
      "{'neg': 0.0, 'neu': 1.0, 'pos': 0.0, 'compound': 0.0}\n",
      "\n",
      "wow it is totally unreasonable to assume that the agency that covered up Bush war crimes because \"muh republican party\" would be partisan as fuck => negative\n",
      "{'neg': 0.291, 'neu': 0.535, 'pos': 0.174, 'compound': -0.6597}\n",
      "\n",
      "Ho ho ho... But Melania said that there is no way it could have happened because she didn't know the woman! => negative\n",
      "{'neg': 0.123, 'neu': 0.877, 'pos': 0.0, 'compound': -0.4753}\n",
      "\n",
      "I can't wait until @potus starts a twitter war against Morning Joe. => negative\n",
      "{'neg': 0.281, 'neu': 0.719, 'pos': 0.0, 'compound': -0.5994}\n",
      "\n",
      "gotta love the teachers who give exams on the day after halloween => positive\n",
      "{'neg': 0.0, 'neu': 0.741, 'pos': 0.259, 'compound': 0.6369}\n",
      "\n"
     ]
    }
   ],
   "source": [
    "for comment in data[data[\"label\"] == 1][\"comment\"][:5]:\n",
    "    print(comment, \"=>\", vader_output_to_label(run_vader(comment, lemmatize=False)))\n",
    "    print(run_vader(comment, lemmatize=True))\n",
    "    print()"
   ]
  },
  {
   "cell_type": "code",
   "execution_count": 57,
   "metadata": {},
   "outputs": [
    {
     "name": "stdout",
     "output_type": "stream",
     "text": [
      "But they'll have all those reviews! => neutral\n",
      "{'neg': 0.0, 'neu': 1.0, 'pos': 0.0, 'compound': 0.0}\n",
      "\n",
      "wow it is totally unreasonable to assume that the agency that covered up Bush war crimes because \"muh republican party\" would be partisan as fuck => negative\n",
      "{'neg': 0.787, 'neu': 0.213, 'pos': 0.0, 'compound': -0.8126}\n",
      "\n",
      "Ho ho ho... But Melania said that there is no way it could have happened because she didn't know the woman! => negative\n",
      "{'neg': 0.0, 'neu': 1.0, 'pos': 0.0, 'compound': 0.0}\n",
      "\n",
      "I can't wait until @potus starts a twitter war against Morning Joe. => negative\n",
      "{'neg': 1.0, 'neu': 0.0, 'pos': 0.0, 'compound': -0.5994}\n",
      "\n",
      "gotta love the teachers who give exams on the day after halloween => positive\n",
      "{'neg': 0.0, 'neu': 1.0, 'pos': 0.0, 'compound': 0.0}\n",
      "\n"
     ]
    }
   ],
   "source": [
    "for comment in data[data[\"label\"] == 1][\"comment\"][:5]:\n",
    "    print(comment, \"=>\", vader_output_to_label(run_vader(comment, lemmatize=False)))\n",
    "    print(run_vader(comment, lemmatize=False, parts_of_speech_to_consider={'NOUN'}))\n",
    "    print()"
   ]
  },
  {
   "cell_type": "code",
   "execution_count": 58,
   "metadata": {},
   "outputs": [
    {
     "name": "stdout",
     "output_type": "stream",
     "text": [
      "But they'll have all those reviews! => neutral\n",
      "{'neg': 0.0, 'neu': 0.0, 'pos': 0.0, 'compound': 0.0}\n",
      "\n",
      "wow it is totally unreasonable to assume that the agency that covered up Bush war crimes because \"muh republican party\" would be partisan as fuck => negative\n",
      "{'neg': 0.0, 'neu': 1.0, 'pos': 0.0, 'compound': 0.0}\n",
      "\n",
      "Ho ho ho... But Melania said that there is no way it could have happened because she didn't know the woman! => negative\n",
      "{'neg': 0.0, 'neu': 0.0, 'pos': 0.0, 'compound': 0.0}\n",
      "\n",
      "I can't wait until @potus starts a twitter war against Morning Joe. => negative\n",
      "{'neg': 0.0, 'neu': 1.0, 'pos': 0.0, 'compound': 0.0}\n",
      "\n",
      "gotta love the teachers who give exams on the day after halloween => positive\n",
      "{'neg': 0.0, 'neu': 0.0, 'pos': 0.0, 'compound': 0.0}\n",
      "\n"
     ]
    }
   ],
   "source": [
    "for comment in data[data[\"label\"] == 1][\"comment\"][:5]:\n",
    "    print(comment, \"=>\", vader_output_to_label(run_vader(comment, lemmatize=False)))\n",
    "    print(run_vader(comment, lemmatize=False, parts_of_speech_to_consider={'ADJ'}))\n",
    "    print()"
   ]
  },
  {
   "cell_type": "code",
   "execution_count": 59,
   "metadata": {},
   "outputs": [
    {
     "name": "stdout",
     "output_type": "stream",
     "text": [
      "But they'll have all those reviews! => neutral\n",
      "{'neg': 0.0, 'neu': 1.0, 'pos': 0.0, 'compound': 0.0}\n",
      "\n",
      "wow it is totally unreasonable to assume that the agency that covered up Bush war crimes because \"muh republican party\" would be partisan as fuck => negative\n",
      "{'neg': 0.0, 'neu': 1.0, 'pos': 0.0, 'compound': 0.0}\n",
      "\n",
      "Ho ho ho... But Melania said that there is no way it could have happened because she didn't know the woman! => negative\n",
      "{'neg': 0.0, 'neu': 1.0, 'pos': 0.0, 'compound': 0.0}\n",
      "\n",
      "I can't wait until @potus starts a twitter war against Morning Joe. => negative\n",
      "{'neg': 0.0, 'neu': 1.0, 'pos': 0.0, 'compound': 0.0}\n",
      "\n",
      "gotta love the teachers who give exams on the day after halloween => positive\n",
      "{'neg': 0.0, 'neu': 0.323, 'pos': 0.677, 'compound': 0.6369}\n",
      "\n"
     ]
    }
   ],
   "source": [
    "for comment in data[data[\"label\"] == 1][\"comment\"][:5]:\n",
    "    print(comment, \"=>\", vader_output_to_label(run_vader(comment, lemmatize=False)))\n",
    "    print(run_vader(comment, lemmatize=False, parts_of_speech_to_consider={'VERB'}))\n",
    "    print()"
   ]
  },
  {
   "cell_type": "markdown",
   "metadata": {},
   "source": [
    "### **Not sarcastic comments**\n",
    "\n",
    "#### parent comments:"
   ]
  },
  {
   "cell_type": "code",
   "execution_count": 62,
   "metadata": {},
   "outputs": [
    {
     "name": "stdout",
     "output_type": "stream",
     "text": [
      "Yeah, I get that argument. At this point, I'd prefer is she lived in NC as well. => positive\n",
      "{'neg': 0.126, 'neu': 0.657, 'pos': 0.217, 'compound': 0.2023}\n",
      "\n",
      "The blazers and Mavericks (The wests 5 and 6 seed) did not even carry a good enough record to make the playoffs in the east last year. => negative\n",
      "{'neg': 0.095, 'neu': 0.905, 'pos': 0.0, 'compound': -0.3412}\n",
      "\n",
      "They're favored to win. => positive\n",
      "{'neg': 0.0, 'neu': 0.312, 'pos': 0.688, 'compound': 0.765}\n",
      "\n",
      "deadass don't kill my buzz => positive\n",
      "{'neg': 0.0, 'neu': 0.572, 'pos': 0.428, 'compound': 0.5773}\n",
      "\n",
      "Yep can confirm I saw the tool they use for that. It was made by our boy EASports_MUT => positive\n",
      "{'neg': 0.0, 'neu': 0.879, 'pos': 0.121, 'compound': 0.296}\n",
      "\n"
     ]
    }
   ],
   "source": [
    "for comment in data[data[\"label\"] == 0][\"parent_comment\"][:5]:\n",
    "    print(comment, \"=>\", vader_output_to_label(run_vader(comment, lemmatize=False)))\n",
    "    print(run_vader(comment, lemmatize=False))\n",
    "    print()"
   ]
  },
  {
   "cell_type": "markdown",
   "metadata": {},
   "source": [
    "#### comments:"
   ]
  },
  {
   "cell_type": "code",
   "execution_count": 60,
   "metadata": {},
   "outputs": [
    {
     "name": "stdout",
     "output_type": "stream",
     "text": [
      "NC and NH. => positive\n",
      "{'neg': 0.0, 'neu': 0.337, 'pos': 0.663, 'compound': 0.6037}\n",
      "\n",
      "You do know west teams play against west teams more than east teams right? => positive\n",
      "{'neg': 0.0, 'neu': 0.844, 'pos': 0.156, 'compound': 0.34}\n",
      "\n",
      "They were underdogs earlier today, but since Gronk's announcement this afternoon, the Vegas line has moved to patriots -1 => neutral\n",
      "{'neg': 0.0, 'neu': 1.0, 'pos': 0.0, 'compound': 0.0}\n",
      "\n",
      "This meme isn't funny none of the \"new york nigga\" ones are. => negative\n",
      "{'neg': 0.167, 'neu': 0.833, 'pos': 0.0, 'compound': -0.3412}\n",
      "\n",
      "I could use one of those tools. => neutral\n",
      "{'neg': 0.0, 'neu': 1.0, 'pos': 0.0, 'compound': 0.0}\n",
      "\n"
     ]
    }
   ],
   "source": [
    "for comment in data[data[\"label\"] == 0][\"comment\"][:5]:\n",
    "    print(comment, \"=>\", vader_output_to_label(run_vader(comment, lemmatize=False)))\n",
    "    print(run_vader(comment, lemmatize=False))\n",
    "    print()"
   ]
  },
  {
   "cell_type": "code",
   "execution_count": 61,
   "metadata": {},
   "outputs": [
    {
     "name": "stdout",
     "output_type": "stream",
     "text": [
      "NC and NH. => positive\n",
      "{'neg': 0.0, 'neu': 0.337, 'pos': 0.663, 'compound': 0.6037}\n",
      "\n",
      "You do know west teams play against west teams more than east teams right? => positive\n",
      "{'neg': 0.0, 'neu': 0.844, 'pos': 0.156, 'compound': 0.34}\n",
      "\n",
      "They were underdogs earlier today, but since Gronk's announcement this afternoon, the Vegas line has moved to patriots -1 => neutral\n",
      "{'neg': 0.0, 'neu': 1.0, 'pos': 0.0, 'compound': 0.0}\n",
      "\n",
      "This meme isn't funny none of the \"new york nigga\" ones are. => negative\n",
      "{'neg': 0.167, 'neu': 0.833, 'pos': 0.0, 'compound': -0.3412}\n",
      "\n",
      "I could use one of those tools. => neutral\n",
      "{'neg': 0.0, 'neu': 1.0, 'pos': 0.0, 'compound': 0.0}\n",
      "\n"
     ]
    }
   ],
   "source": [
    "for comment in data[data[\"label\"] == 0][\"comment\"][0:5]:\n",
    "    print(comment, \"=>\", vader_output_to_label(run_vader(comment, lemmatize=False)))\n",
    "    print(run_vader(comment, lemmatize=True))\n",
    "    print()"
   ]
  },
  {
   "cell_type": "code",
   "execution_count": 43,
   "metadata": {},
   "outputs": [
    {
     "name": "stdout",
     "output_type": "stream",
     "text": [
      "NC and NH. => positive\n",
      "{'neg': 0.0, 'neu': 0.0, 'pos': 0.0, 'compound': 0.0}\n",
      "\n",
      "You do know west teams play against west teams more than east teams right? => positive\n",
      "{'neg': 0.0, 'neu': 1.0, 'pos': 0.0, 'compound': 0.0}\n",
      "\n",
      "They were underdogs earlier today, but since Gronk's announcement this afternoon, the Vegas line has moved to patriots -1 => neutral\n",
      "{'neg': 0.0, 'neu': 0.0, 'pos': 0.0, 'compound': 0.0}\n",
      "\n",
      "This meme isn't funny none of the \"new york nigga\" ones are. => negative\n",
      "{'neg': 0.0, 'neu': 0.0, 'pos': 1.0, 'compound': 0.4404}\n",
      "\n",
      "I could use one of those tools. => neutral\n",
      "{'neg': 0.0, 'neu': 0.0, 'pos': 0.0, 'compound': 0.0}\n",
      "\n",
      "I don't pay attention to her, but as long as she's legal I wouldn't kick her out of bed (before she took a load) => positive\n",
      "{'neg': 0.0, 'neu': 0.0, 'pos': 1.0, 'compound': 0.128}\n",
      "\n",
      "Trick or treating in general is just weird... => negative\n",
      "{'neg': 0.63, 'neu': 0.37, 'pos': 0.0, 'compound': -0.1779}\n",
      "\n",
      "Blade Mastery+Masamune or GTFO! => neutral\n",
      "{'neg': 0.0, 'neu': 0.0, 'pos': 0.0, 'compound': 0.0}\n",
      "\n",
      "You don't have to, you have a good build, buy games or save it => positive\n",
      "{'neg': 0.0, 'neu': 0.0, 'pos': 1.0, 'compound': 0.4404}\n",
      "\n",
      "I would love to see him at lolla. => positive\n",
      "{'neg': 0.0, 'neu': 0.0, 'pos': 0.0, 'compound': 0.0}\n",
      "\n",
      "I think a significant amount would be against spending their tax dollars on other people. => positive\n",
      "{'neg': 0.0, 'neu': 0.357, 'pos': 0.643, 'compound': 0.2023}\n",
      "\n",
      "Damn I was hoping God was real => positive\n",
      "{'neg': 0.0, 'neu': 1.0, 'pos': 0.0, 'compound': 0.0}\n",
      "\n",
      "They have an agenda. => neutral\n",
      "{'neg': 0.0, 'neu': 0.0, 'pos': 0.0, 'compound': 0.0}\n",
      "\n",
      "Great idea! => positive\n",
      "{'neg': 0.0, 'neu': 0.0, 'pos': 1.0, 'compound': 0.6249}\n",
      "\n",
      "Ayy bb wassup, it makes a bit more sense in context => neutral\n",
      "{'neg': 0.0, 'neu': 1.0, 'pos': 0.0, 'compound': 0.0}\n",
      "\n",
      "what the fuck => negative\n",
      "{'neg': 0.0, 'neu': 0.0, 'pos': 0.0, 'compound': 0.0}\n",
      "\n",
      "noted. => neutral\n",
      "{'neg': 0.0, 'neu': 0.0, 'pos': 0.0, 'compound': 0.0}\n",
      "\n",
      "because it's what really bothers him... and it's a sign of weakness. => negative\n",
      "{'neg': 0.0, 'neu': 0.0, 'pos': 0.0, 'compound': 0.0}\n",
      "\n",
      "why you fail me, my precious? => positive\n",
      "{'neg': 0.0, 'neu': 0.0, 'pos': 1.0, 'compound': 0.5719}\n",
      "\n",
      "Pre-Flashpoint Clark and Lois. => neutral\n",
      "{'neg': 0.0, 'neu': 1.0, 'pos': 0.0, 'compound': 0.0}\n",
      "\n"
     ]
    }
   ],
   "source": [
    "for comment in data[data[\"label\"] == 0][\"comment\"][0:20]:\n",
    "    print(comment, \"=>\", vader_output_to_label(run_vader(comment, lemmatize=False)))\n",
    "    print(run_vader(comment, lemmatize=False, parts_of_speech_to_consider={'ADJ'}))\n",
    "    print()"
   ]
  },
  {
   "cell_type": "code",
   "execution_count": 44,
   "metadata": {},
   "outputs": [
    {
     "name": "stdout",
     "output_type": "stream",
     "text": [
      "NC and NH. => positive\n",
      "{'neg': 0.0, 'neu': 0.0, 'pos': 0.0, 'compound': 0.0}\n",
      "\n",
      "You do know west teams play against west teams more than east teams right? => positive\n",
      "{'neg': 0.0, 'neu': 1.0, 'pos': 0.0, 'compound': 0.0}\n",
      "\n",
      "They were underdogs earlier today, but since Gronk's announcement this afternoon, the Vegas line has moved to patriots -1 => neutral\n",
      "{'neg': 0.0, 'neu': 1.0, 'pos': 0.0, 'compound': 0.0}\n",
      "\n",
      "This meme isn't funny none of the \"new york nigga\" ones are. => negative\n",
      "{'neg': 0.0, 'neu': 1.0, 'pos': 0.0, 'compound': 0.0}\n",
      "\n",
      "I could use one of those tools. => neutral\n",
      "{'neg': 0.0, 'neu': 1.0, 'pos': 0.0, 'compound': 0.0}\n",
      "\n",
      "I don't pay attention to her, but as long as she's legal I wouldn't kick her out of bed (before she took a load) => positive\n",
      "{'neg': 0.0, 'neu': 1.0, 'pos': 0.0, 'compound': 0.0}\n",
      "\n",
      "Trick or treating in general is just weird... => negative\n",
      "{'neg': 1.0, 'neu': 0.0, 'pos': 0.0, 'compound': -0.0516}\n",
      "\n",
      "Blade Mastery+Masamune or GTFO! => neutral\n",
      "{'neg': 0.0, 'neu': 0.0, 'pos': 0.0, 'compound': 0.0}\n",
      "\n",
      "You don't have to, you have a good build, buy games or save it => positive\n",
      "{'neg': 0.0, 'neu': 1.0, 'pos': 0.0, 'compound': 0.0}\n",
      "\n",
      "I would love to see him at lolla. => positive\n",
      "{'neg': 0.0, 'neu': 1.0, 'pos': 0.0, 'compound': 0.0}\n",
      "\n",
      "I think a significant amount would be against spending their tax dollars on other people. => positive\n",
      "{'neg': 0.0, 'neu': 1.0, 'pos': 0.0, 'compound': 0.0}\n",
      "\n",
      "Damn I was hoping God was real => positive\n",
      "{'neg': 0.0, 'neu': 0.0, 'pos': 0.0, 'compound': 0.0}\n",
      "\n",
      "They have an agenda. => neutral\n",
      "{'neg': 0.0, 'neu': 1.0, 'pos': 0.0, 'compound': 0.0}\n",
      "\n",
      "Great idea! => positive\n",
      "{'neg': 0.0, 'neu': 1.0, 'pos': 0.0, 'compound': 0.0}\n",
      "\n",
      "Ayy bb wassup, it makes a bit more sense in context => neutral\n",
      "{'neg': 0.0, 'neu': 1.0, 'pos': 0.0, 'compound': 0.0}\n",
      "\n",
      "what the fuck => negative\n",
      "{'neg': 1.0, 'neu': 0.0, 'pos': 0.0, 'compound': -0.5423}\n",
      "\n",
      "noted. => neutral\n",
      "{'neg': 0.0, 'neu': 0.0, 'pos': 0.0, 'compound': 0.0}\n",
      "\n",
      "because it's what really bothers him... and it's a sign of weakness. => negative\n",
      "{'neg': 0.737, 'neu': 0.263, 'pos': 0.0, 'compound': -0.4215}\n",
      "\n",
      "why you fail me, my precious? => positive\n",
      "{'neg': 0.0, 'neu': 0.0, 'pos': 0.0, 'compound': 0.0}\n",
      "\n",
      "Pre-Flashpoint Clark and Lois. => neutral\n",
      "{'neg': 0.0, 'neu': 0.0, 'pos': 0.0, 'compound': 0.0}\n",
      "\n"
     ]
    }
   ],
   "source": [
    "for comment in data[data[\"label\"] == 0][\"comment\"][:20]:\n",
    "    print(comment, \"=>\", vader_output_to_label(run_vader(comment, lemmatize=False)))\n",
    "    print(run_vader(comment, lemmatize=False, parts_of_speech_to_consider={'NOUN'}))\n",
    "    print()"
   ]
  },
  {
   "cell_type": "code",
   "execution_count": 45,
   "metadata": {},
   "outputs": [
    {
     "name": "stdout",
     "output_type": "stream",
     "text": [
      "NC and NH. => positive\n",
      "{'neg': 0.0, 'neu': 0.0, 'pos': 0.0, 'compound': 0.0}\n",
      "\n",
      "You do know west teams play against west teams more than east teams right? => positive\n",
      "{'neg': 0.0, 'neu': 0.294, 'pos': 0.706, 'compound': 0.34}\n",
      "\n",
      "They were underdogs earlier today, but since Gronk's announcement this afternoon, the Vegas line has moved to patriots -1 => neutral\n",
      "{'neg': 0.0, 'neu': 1.0, 'pos': 0.0, 'compound': 0.0}\n",
      "\n",
      "This meme isn't funny none of the \"new york nigga\" ones are. => negative\n",
      "{'neg': 0.0, 'neu': 0.0, 'pos': 0.0, 'compound': 0.0}\n",
      "\n",
      "I could use one of those tools. => neutral\n",
      "{'neg': 0.0, 'neu': 1.0, 'pos': 0.0, 'compound': 0.0}\n",
      "\n",
      "I don't pay attention to her, but as long as she's legal I wouldn't kick her out of bed (before she took a load) => positive\n",
      "{'neg': 0.318, 'neu': 0.682, 'pos': 0.0, 'compound': -0.1027}\n",
      "\n",
      "Trick or treating in general is just weird... => negative\n",
      "{'neg': 0.0, 'neu': 1.0, 'pos': 0.0, 'compound': 0.0}\n",
      "\n",
      "Blade Mastery+Masamune or GTFO! => neutral\n",
      "{'neg': 0.0, 'neu': 0.0, 'pos': 0.0, 'compound': 0.0}\n",
      "\n",
      "You don't have to, you have a good build, buy games or save it => positive\n",
      "{'neg': 0.0, 'neu': 0.238, 'pos': 0.762, 'compound': 0.4939}\n",
      "\n",
      "I would love to see him at lolla. => positive\n",
      "{'neg': 0.0, 'neu': 0.323, 'pos': 0.677, 'compound': 0.6369}\n",
      "\n",
      "I think a significant amount would be against spending their tax dollars on other people. => positive\n",
      "{'neg': 0.0, 'neu': 1.0, 'pos': 0.0, 'compound': 0.0}\n",
      "\n",
      "Damn I was hoping God was real => positive\n",
      "{'neg': 0.0, 'neu': 0.0, 'pos': 1.0, 'compound': 0.4215}\n",
      "\n",
      "They have an agenda. => neutral\n",
      "{'neg': 0.0, 'neu': 0.0, 'pos': 0.0, 'compound': 0.0}\n",
      "\n",
      "Great idea! => positive\n",
      "{'neg': 0.0, 'neu': 0.0, 'pos': 0.0, 'compound': 0.0}\n",
      "\n",
      "Ayy bb wassup, it makes a bit more sense in context => neutral\n",
      "{'neg': 0.0, 'neu': 1.0, 'pos': 0.0, 'compound': 0.0}\n",
      "\n",
      "what the fuck => negative\n",
      "{'neg': 0.0, 'neu': 0.0, 'pos': 0.0, 'compound': 0.0}\n",
      "\n",
      "noted. => neutral\n",
      "{'neg': 0.0, 'neu': 1.0, 'pos': 0.0, 'compound': 0.0}\n",
      "\n",
      "because it's what really bothers him... and it's a sign of weakness. => negative\n",
      "{'neg': 1.0, 'neu': 0.0, 'pos': 0.0, 'compound': -0.2023}\n",
      "\n",
      "why you fail me, my precious? => positive\n",
      "{'neg': 1.0, 'neu': 0.0, 'pos': 0.0, 'compound': -0.5423}\n",
      "\n",
      "Pre-Flashpoint Clark and Lois. => neutral\n",
      "{'neg': 0.0, 'neu': 0.0, 'pos': 0.0, 'compound': 0.0}\n",
      "\n"
     ]
    }
   ],
   "source": [
    "for comment in data[data[\"label\"] == 0][\"comment\"][:20]:\n",
    "    print(comment, \"=>\", vader_output_to_label(run_vader(comment, lemmatize=False)))\n",
    "    print(run_vader(comment, lemmatize=False, parts_of_speech_to_consider={'VERB'}))\n",
    "    print()"
   ]
  },
  {
   "cell_type": "code",
   "execution_count": null,
   "metadata": {},
   "outputs": [],
   "source": []
  }
 ],
 "metadata": {
  "kernelspec": {
   "display_name": "Python 3",
   "language": "python",
   "name": "python3"
  },
  "language_info": {
   "codemirror_mode": {
    "name": "ipython",
    "version": 3
   },
   "file_extension": ".py",
   "mimetype": "text/x-python",
   "name": "python",
   "nbconvert_exporter": "python",
   "pygments_lexer": "ipython3",
   "version": "3.7.4"
  }
 },
 "nbformat": 4,
 "nbformat_minor": 4
}
