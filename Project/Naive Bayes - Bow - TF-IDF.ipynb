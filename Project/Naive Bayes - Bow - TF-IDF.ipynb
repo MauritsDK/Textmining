{
 "cells": [
  {
   "cell_type": "markdown",
   "metadata": {},
   "source": [
    "https://towardsdatascience.com/naive-bayes-document-classification-in-python-e33ff50f937e"
   ]
  },
  {
   "cell_type": "code",
   "execution_count": 38,
   "metadata": {},
   "outputs": [],
   "source": [
    "import pathlib\n",
    "import sklearn\n",
    "import numpy\n",
    "import nltk\n",
    "import spacy\n",
    "import pandas as pd\n",
    "import numpy as np\n",
    "import itertools\n",
    "from nltk.corpus import stopwords\n",
    "from collections import Counter\n",
    "import matplotlib.pyplot as plt\n",
    "\n",
    "from sklearn import metrics\n",
    "from sklearn.metrics import classification_report\n",
    "from sklearn.metrics import confusion_matrix\n",
    "from sklearn.datasets import load_files\n",
    "from sklearn.feature_extraction.text import CountVectorizer\n",
    "from sklearn.feature_extraction.text import TfidfTransformer\n",
    "\n",
    "from sklearn.naive_bayes import MultinomialNB\n",
    "from sklearn.naive_bayes import BernoulliNB\n",
    "from sklearn.model_selection import train_test_split"
   ]
  },
  {
   "cell_type": "code",
   "execution_count": 39,
   "metadata": {},
   "outputs": [],
   "source": [
    "data = pd.read_csv(\"train-balanced-sarcasm.csv\")"
   ]
  },
  {
   "cell_type": "code",
   "execution_count": 51,
   "metadata": {},
   "outputs": [],
   "source": [
    "#cleaning out empty comments:\n",
    "empty_comments = data[\"comment\"].isna()\n",
    "# empty_comments = test_data[\"comment\"].isna()\n",
    "empty_comments = data[empty_comments].index\n",
    "# empty_comments = test_data[empty_comments].index\n",
    "data.drop(empty_comments, axis=0, inplace=True)\n",
    "# test_data.drop(empty_comments, axis=0, inplace=True)"
   ]
  },
  {
   "cell_type": "code",
   "execution_count": 41,
   "metadata": {},
   "outputs": [],
   "source": [
    "#split data:\n",
    "#X_train, X_test, y_train, y_test = train_test_split(data[\"comment\"], data[\"label\"],test_size =0.3, random_state=50)\n",
    "splitdata= train_test_split(data[\"comment\"], data[\"label\"],test_size =0.3, random_state=50)"
   ]
  },
  {
   "cell_type": "code",
   "execution_count": 47,
   "metadata": {},
   "outputs": [],
   "source": [
    "def con_matrix(y_test,predictions):\n",
    "    CATEGORIES = [\"not sarcasm\",\"sarcasm\"]\n",
    "    cm = confusion_matrix(y_test, predictions)\n",
    "    # sns.heatmap(cm, square=False, annot=True, cmap='RdBu', cbar=False, xticklabels=['not sarcasm', 'sarcasm'], yticklabels=['not sarcasm', 'sarcasm'])\n",
    "    # plt.xlabel('true label')\n",
    "    # plt.ylabel('predicted label')\n",
    "    plt.figure()\n",
    "    plot_confusion_matrix(cm, classes=CATEGORIES, title='Confusion matrix, without normalization')\n",
    "\n",
    "    #Als je hem wel genormaliseerd wil:\n",
    "    # plt.figure()\n",
    "    # plot_confusion_matrix(b_cm, classes=CATEGORIES, normalize=True,\n",
    "    #                       title='Normalized confusion matrix')\n",
    "\n",
    "    plt.show()\n",
    "    print(cm)\n",
    "    "
   ]
  },
  {
   "cell_type": "markdown",
   "metadata": {},
   "source": [
    "## **Bag of Words**\n",
    "#### CountVectorizer:"
   ]
  },
  {
   "cell_type": "code",
   "execution_count": 49,
   "metadata": {},
   "outputs": [
    {
     "name": "stdout",
     "output_type": "stream",
     "text": [
      "              precision    recall  f1-score   support\n",
      "\n",
      "           0      0.692     0.677     0.685    151624\n",
      "           1      0.684     0.699     0.691    151608\n",
      "\n",
      "    accuracy                          0.688    303232\n",
      "   macro avg      0.688     0.688     0.688    303232\n",
      "weighted avg      0.688     0.688     0.688    303232\n",
      "\n"
     ]
    },
    {
     "data": {
      "image/png": "[encoded data removed]",
      "text/plain": [
       "<Figure size 432x288 with 2 Axes>"
      ]
     },
     "metadata": {
      "needs_background": "light"
     },
     "output_type": "display_data"
    },
    {
     "name": "stdout",
     "output_type": "stream",
     "text": [
      "[[102697  48927]\n",
      " [ 45667 105941]]\n"
     ]
    }
   ],
   "source": [
    "def Bag(splitdata):\n",
    "    X_train, X_test, y_train, y_test = splitdata\n",
    "    vectorizer = CountVectorizer(min_df=1, # in how many documents the term minimally occurs\n",
    "                          tokenizer=nltk.word_tokenize) # we use the nltk tokenizer to split the text into tokens\n",
    "    X_train_cv = vectorizer.fit_transform(X_train)\n",
    "    naive_bayes = BernoulliNB()\n",
    "    naive_bayes.fit(X_train_cv, y_train)\n",
    "    # naive_bayes = MultinomialNB()\n",
    "    X_test_cv = vectorizer.transform(X_test)\n",
    "    predictions = naive_bayes.predict(X_test_cv)\n",
    "    report = classification_report(y_test, predictions, digits = 3)\n",
    "    print(report)\n",
    "    con_matrix(y_test,predicted2)\n"
   ]
  },
  {
   "cell_type": "code",
   "execution_count": null,
   "metadata": {},
   "outputs": [],
   "source": [
    "Bag(splitdata)"
   ]
  },
  {
   "cell_type": "markdown",
   "metadata": {},
   "source": [
    "###### The accuracy score tells us: out of all of the identifications we made, how many were correct? true positives + true negatives / total observations\n",
    "\n",
    "###### The precision score tells us: out of all of the ethics identifications we made, how many were correct? true positives / (true positives + false positives)\n",
    "\n",
    "######  The recall score tells us: out of all of the true cases of ethics, how many did we identify correctly? true positives / (true positives + false negatives)"
   ]
  },
  {
   "cell_type": "code",
   "execution_count": 15,
   "metadata": {
    "jupyter": {
     "source_hidden": true
    }
   },
   "outputs": [],
   "source": [
    "def plot_confusion_matrix(cm, classes,\n",
    "                          normalize=False,\n",
    "                          title='Confusion matrix',\n",
    "                          cmap=plt.cm.Blues):\n",
    "    \"\"\"\n",
    "    This function prints and plots the confusion matrix.\n",
    "    Normalization can be applied by setting `normalize=True`.\n",
    "    \"\"\"\n",
    "    plt.imshow(cm, interpolation='nearest', cmap=cmap)\n",
    "    plt.title(title)\n",
    "    plt.colorbar()\n",
    "    tick_marks = np.arange(len(classes))\n",
    "    plt.xticks(tick_marks, classes, rotation=45)\n",
    "    plt.yticks(tick_marks, classes)\n",
    "\n",
    "    if normalize:\n",
    "        cm = cm.astype('float') / cm.sum(axis=1)[:, np.newaxis]\n",
    "    else:\n",
    "        pass\n",
    "#         print(\"Normalized confusion matrix\")\n",
    "#     else:\n",
    "#         print('Confusion matrix, without normalization')\n",
    "\n",
    "#     print(cm)\n",
    "\n",
    "    thresh = cm.max() / 2.\n",
    "    for i, j in itertools.product(range(cm.shape[0]), range(cm.shape[1])):\n",
    "        plt.text(j, i, cm[i, j],\n",
    "                 horizontalalignment=\"center\",\n",
    "                 color=\"white\" if cm[i, j] > thresh else \"black\")\n",
    "\n",
    "    plt.tight_layout()\n",
    "    plt.ylabel('True label')\n",
    "    plt.xlabel('Predicted label')"
   ]
  },
  {
   "cell_type": "markdown",
   "metadata": {},
   "source": [
    "#### TF-IFD"
   ]
  },
  {
   "cell_type": "code",
   "execution_count": 50,
   "metadata": {},
   "outputs": [
    {
     "name": "stdout",
     "output_type": "stream",
     "text": [
      "              precision    recall  f1-score   support\n",
      "\n",
      "           0      0.692     0.677     0.685    151624\n",
      "           1      0.684     0.699     0.691    151608\n",
      "\n",
      "    accuracy                          0.688    303232\n",
      "   macro avg      0.688     0.688     0.688    303232\n",
      "weighted avg      0.688     0.688     0.688    303232\n",
      "\n"
     ]
    },
    {
     "data": {
      "image/png": "[encoded data removed]",
      "text/plain": [
       "<Figure size 432x288 with 2 Axes>"
      ]
     },
     "metadata": {
      "needs_background": "light"
     },
     "output_type": "display_data"
    },
    {
     "name": "stdout",
     "output_type": "stream",
     "text": [
      "[[102697  48927]\n",
      " [ 45667 105941]]\n"
     ]
    }
   ],
   "source": [
    "def TF(splitdata):\n",
    "    X_train, X_test, y_train, y_test = splitdata\n",
    "    tfidf_transformer = TfidfTransformer()\n",
    "    train_tfidf = tfidf_transformer.fit_transform(X_train_cv)\n",
    "    naive_bayes2 = BernoulliNB()\n",
    "    naive_bayes2.fit(train_tfidf, y_train)\n",
    "    test_data_vec = tfidf_transformer.transform(X_test_cv) #wel nodig??\n",
    "    predicted2 = naive_bayes2.predict(test_data_vec)\n",
    "    report2 = classification_report(y_test, predicted2, digits = 3)\n",
    "    print(report2)\n",
    "    con_matrix(y_test,predicted2)\n",
    "\n"
   ]
  },
  {
   "cell_type": "code",
   "execution_count": null,
   "metadata": {},
   "outputs": [],
   "source": [
    "TF(splitdata)"
   ]
  },
  {
   "cell_type": "code",
   "execution_count": null,
   "metadata": {},
   "outputs": [],
   "source": []
  }
 ],
 "metadata": {
  "kernelspec": {
   "display_name": "Python 3",
   "language": "python",
   "name": "python3"
  },
  "language_info": {
   "codemirror_mode": {
    "name": "ipython",
    "version": 3
   },
   "file_extension": ".py",
   "mimetype": "text/x-python",
   "name": "python",
   "nbconvert_exporter": "python",
   "pygments_lexer": "ipython3",
   "version": "3.7.4"
  }
 },
 "nbformat": 4,
 "nbformat_minor": 4
}
