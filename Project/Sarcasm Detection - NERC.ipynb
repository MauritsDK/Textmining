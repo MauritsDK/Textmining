{
 "cells": [
  {
   "cell_type": "code",
   "execution_count": 21,
   "metadata": {},
   "outputs": [],
   "source": [
    "import numpy as np # linear algebra\n",
    "import pandas as pd # data processing, CSV file I/O (e.g. pd.read_csv)\n",
    "import matplotlib.pyplot as plt # visualizations and charts\n",
    "import nltk\n",
    "import pprint\n",
    "from nltk.chunk import ne_chunk\n",
    "from tqdm import tqdm\n",
    "import sys"
   ]
  },
  {
   "cell_type": "code",
   "execution_count": 22,
   "metadata": {},
   "outputs": [],
   "source": [
    "data = pd.read_csv('train-balanced-sarcasm.csv')\n",
    "empty_comments = data[\"comment\"].isna()\n",
    "empty_comments = data[empty_comments].index\n",
    "data.drop(empty_comments, axis=0, inplace=True)"
   ]
  },
  {
   "cell_type": "code",
   "execution_count": 23,
   "metadata": {},
   "outputs": [],
   "source": [
    "### how many comments do you want to process WARNING can take some time\n",
    "comments_0 = data[data['label']==0]['comment']\n",
    "comments_1 = data[data['label']==1]['comment']"
   ]
  },
  {
   "cell_type": "code",
   "execution_count": 25,
   "metadata": {},
   "outputs": [],
   "source": [
    "def comment_label(comments, label):\n",
    "    processed = []\n",
    "    for comment in comments:\n",
    "        processed.append([comment, label])\n",
    "    return processed"
   ]
  },
  {
   "cell_type": "code",
   "execution_count": 26,
   "metadata": {},
   "outputs": [],
   "source": [
    "def comment_nerc(comments, label):\n",
    "    processed = []\n",
    "    with tqdm(total=len(comments), file=sys.stdout) as pbar:    \n",
    "        for i, comment in enumerate(comments):\n",
    "            tokenize = nltk.word_tokenize(comment)\n",
    "            postag = nltk.pos_tag(tokenize)\n",
    "            tagged_nerc = ne_chunk(postag)\n",
    "            processed.append([tagged_nerc, label])\n",
    "            \n",
    "            pbar.set_description('processed: %d' % (1 + i))\n",
    "            pbar.update(1)\n",
    "    return processed"
   ]
  },
  {
   "cell_type": "code",
   "execution_count": 27,
   "metadata": {},
   "outputs": [],
   "source": [
    "labelled_0 = comment_label(comments_0, 0)"
   ]
  },
  {
   "cell_type": "code",
   "execution_count": null,
   "metadata": {},
   "outputs": [
    {
     "name": "stdout",
     "output_type": "stream",
     "text": [
      "processed: 80078:  16%|████████▋                                              | 80078/505405 [27:43<2:13:07, 53.25it/s]"
     ]
    }
   ],
   "source": [
    "nerc_0 = comment_nerc(comments_0, 0)\n",
    "file1 = open(\"nerc_0.txt\", \"w+\")\n",
    "file1.write(nerc_0)\n",
    "\n",
    "# Close opend file\n",
    "file1.close()"
   ]
  },
  {
   "cell_type": "code",
   "execution_count": null,
   "metadata": {},
   "outputs": [],
   "source": [
    "labelled_1 = comment_label(comments_1, 1)"
   ]
  },
  {
   "cell_type": "code",
   "execution_count": null,
   "metadata": {},
   "outputs": [],
   "source": [
    "nerc_1 = comment_nerc(comments_1, 1)\n",
    "file2 = open(\"nerc_1.txt\", \"w+\")\n",
    "file2.write(nerc_1)\n",
    "\n",
    "# Close opend file\n",
    "file2.close()"
   ]
  },
  {
   "cell_type": "code",
   "execution_count": 116,
   "metadata": {},
   "outputs": [
    {
     "name": "stdout",
     "output_type": "stream",
     "text": [
      "\n",
      "('You', 'PRP')\n",
      "('do', 'VBP')\n",
      "('know', 'VB')\n",
      "('west', 'JJS')\n",
      "('teams', 'NNS')\n",
      "('play', 'VBP')\n",
      "('against', 'IN')\n",
      "('west', 'JJ')\n",
      "('teams', 'NNS')\n",
      "('more', 'RBR')\n",
      "('than', 'IN')\n",
      "('east', 'JJ')\n",
      "('teams', 'NNS')\n",
      "('right', 'RB')\n",
      "('?', '.')\n",
      "0\n"
     ]
    }
   ],
   "source": [
    "for something in nerc_0[1]:\n",
    "    if something== int:\n",
    "        print(something)\n",
    "    else:\n",
    "        for part in something: \n",
    "            print(part)"
   ]
  },
  {
   "cell_type": "code",
   "execution_count": null,
   "metadata": {},
   "outputs": [],
   "source": []
  }
 ],
 "metadata": {
  "kernelspec": {
   "display_name": "Python 3",
   "language": "python",
   "name": "python3"
  },
  "language_info": {
   "codemirror_mode": {
    "name": "ipython",
    "version": 3
   },
   "file_extension": ".py",
   "mimetype": "text/x-python",
   "name": "python",
   "nbconvert_exporter": "python",
   "pygments_lexer": "ipython3",
   "version": "3.7.4"
  }
 },
 "nbformat": 4,
 "nbformat_minor": 2
}
