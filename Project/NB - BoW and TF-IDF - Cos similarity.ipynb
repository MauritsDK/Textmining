{
 "cells": [
  {
   "cell_type": "markdown",
   "metadata": {},
   "source": [
    "https://towardsdatascience.com/naive-bayes-document-classification-in-python-e33ff50f937e\n",
    "\n",
    "https://skipperkongen.dk/2018/09/19/cosine-similarity-in-python/"
   ]
  },
  {
   "cell_type": "code",
   "execution_count": 1,
   "metadata": {},
   "outputs": [],
   "source": [
    "import pathlib\n",
    "import sklearn\n",
    "import numpy\n",
    "import sys\n",
    "import nltk\n",
    "import spacy\n",
    "import pandas as pd\n",
    "import numpy as np\n",
    "import itertools\n",
    "from nltk.corpus import stopwords\n",
    "from collections import Counter\n",
    "import matplotlib.pyplot as plt\n",
    "\n",
    "from sklearn import metrics\n",
    "from sklearn.metrics import classification_report\n",
    "from sklearn.metrics import confusion_matrix\n",
    "from sklearn.datasets import load_files\n",
    "from sklearn.feature_extraction.text import CountVectorizer\n",
    "from sklearn.feature_extraction.text import TfidfTransformer\n",
    "\n",
    "from sklearn.naive_bayes import MultinomialNB\n",
    "from sklearn.naive_bayes import BernoulliNB\n",
    "from sklearn.model_selection import train_test_split"
   ]
  },
  {
   "cell_type": "code",
   "execution_count": 2,
   "metadata": {},
   "outputs": [],
   "source": [
    "sys.setrecursionlimit(10**6)"
   ]
  },
  {
   "cell_type": "code",
   "execution_count": 3,
   "metadata": {},
   "outputs": [],
   "source": [
    "data = pd.read_csv(\"train-balanced-sarcasm.csv\")"
   ]
  },
  {
   "cell_type": "code",
   "execution_count": 4,
   "metadata": {},
   "outputs": [],
   "source": [
    "#cleaning out empty comments:\n",
    "empty_comments = data[\"comment\"].isna()\n",
    "# empty_comments = test_data[\"comment\"].isna()\n",
    "empty_comments = data[empty_comments].index\n",
    "# empty_comments = test_data[empty_comments].index\n",
    "data.drop(empty_comments, axis=0, inplace=True)\n",
    "# test_data.drop(empty_comments, axis=0, inplace=True)"
   ]
  },
  {
   "cell_type": "code",
   "execution_count": 5,
   "metadata": {},
   "outputs": [],
   "source": [
    "#split data:\n",
    "X_train, X_test, y_train, y_test = train_test_split(data[\"comment\"], data[\"label\"],test_size =0.3, random_state=50)\n",
    "#split_data= train_test_split(data[\"comment\"], data[\"label\"],test_size =0.3, random_state=50)"
   ]
  },
  {
   "cell_type": "code",
   "execution_count": 6,
   "metadata": {
    "jupyter": {
     "source_hidden": true
    }
   },
   "outputs": [],
   "source": [
    "def plot_confusion_matrix(cm, classes,\n",
    "                          normalize=False,\n",
    "                          title='Confusion matrix',\n",
    "                          cmap=plt.cm.Blues):\n",
    "    \"\"\"\n",
    "    This function prints and plots the confusion matrix.\n",
    "    Normalization can be applied by setting `normalize=True`.\n",
    "    \"\"\"\n",
    "    plt.imshow(cm, interpolation='nearest', cmap=cmap)\n",
    "    plt.title(title)\n",
    "    plt.colorbar()\n",
    "    tick_marks = np.arange(len(classes))\n",
    "    plt.xticks(tick_marks, classes, rotation=45)\n",
    "    plt.yticks(tick_marks, classes)\n",
    "\n",
    "    if normalize:\n",
    "        cm = cm.astype('float') / cm.sum(axis=1)[:, np.newaxis]\n",
    "    else:\n",
    "        pass\n",
    "#         print(\"Normalized confusion matrix\")\n",
    "#     else:\n",
    "#         print('Confusion matrix, without normalization')\n",
    "\n",
    "#     print(cm)\n",
    "\n",
    "    thresh = cm.max() / 2.\n",
    "    for i, j in itertools.product(range(cm.shape[0]), range(cm.shape[1])):\n",
    "        plt.text(j, i, cm[i, j],\n",
    "                 horizontalalignment=\"center\",\n",
    "                 color=\"white\" if cm[i, j] > thresh else \"black\")\n",
    "\n",
    "    plt.tight_layout()\n",
    "    plt.ylabel('True label')\n",
    "    plt.xlabel('Predicted label')"
   ]
  },
  {
   "cell_type": "markdown",
   "metadata": {},
   "source": [
    "# Unprocessed text\n",
    "\n",
    "## **Bag of Words**\n",
    "#### CountVectorizer: \n",
    "#### With test data vectorized"
   ]
  },
  {
   "cell_type": "code",
   "execution_count": 17,
   "metadata": {},
   "outputs": [
    {
     "name": "stdout",
     "output_type": "stream",
     "text": [
      "              precision    recall  f1-score   support\n",
      "\n",
      "           0      0.692     0.677     0.685    151624\n",
      "           1      0.684     0.699     0.691    151608\n",
      "\n",
      "    accuracy                          0.688    303232\n",
      "   macro avg      0.688     0.688     0.688    303232\n",
      "weighted avg      0.688     0.688     0.688    303232\n",
      "\n"
     ]
    }
   ],
   "source": [
    "vectorizer = CountVectorizer(min_df=1, # in how many documents the term minimally occurs\n",
    "                      tokenizer=nltk.word_tokenize) # we use the nltk tokenizer to split the text into tokens\n",
    "X_train_cv = vectorizer.fit_transform(X_train)\n",
    "naive_bayes = BernoulliNB()\n",
    "naive_bayes.fit(X_train_cv, y_train)\n",
    "\n",
    "# naive_bayes = MultinomialNB()\n",
    "X_test_cv = vectorizer.transform(X_test)\n",
    "predictions = naive_bayes.predict(X_test_cv)\n",
    "\n",
    "report = classification_report(y_test, predictions, digits = 3)\n",
    "print(report)"
   ]
  },
  {
   "cell_type": "markdown",
   "metadata": {},
   "source": [
    "###### The accuracy score: (true positives + true negatives) / total observations\n",
    "\n",
    "###### The precision score: true positives / (true positives + false positives)\n",
    "\n",
    "######  The recall score: true positives / (true positives + false negatives)"
   ]
  },
  {
   "cell_type": "code",
   "execution_count": 8,
   "metadata": {},
   "outputs": [
    {
     "data": {
      "image/png": "[encoded data removed]",
      "text/plain": [
       "<Figure size 432x288 with 2 Axes>"
      ]
     },
     "metadata": {
      "needs_background": "light"
     },
     "output_type": "display_data"
    },
    {
     "name": "stdout",
     "output_type": "stream",
     "text": [
      "[[102697  48927]\n",
      " [ 45667 105941]]\n"
     ]
    }
   ],
   "source": [
    "CATEGORIES = [\"not sarcasm\",\"sarcasm\"]\n",
    "cm = confusion_matrix(y_test, predictions)\n",
    "# sns.heatmap(cm, square=False, annot=True, cmap='RdBu', cbar=False, xticklabels=['not sarcasm', 'sarcasm'], yticklabels=['not sarcasm', 'sarcasm'])\n",
    "# plt.xlabel('true label')\n",
    "# plt.ylabel('predicted label')\n",
    "plt.figure()\n",
    "plot_confusion_matrix(cm, classes=CATEGORIES, title='Confusion matrix, without normalization')\n",
    "\n",
    "#Als je hem wel genormaliseerd wil:\n",
    "# plt.figure()\n",
    "# plot_confusion_matrix(b_cm, classes=CATEGORIES, normalize=True,\n",
    "#                       title='Normalized confusion matrix')\n",
    "\n",
    "plt.show()\n",
    "print(cm)"
   ]
  },
  {
   "cell_type": "markdown",
   "metadata": {},
   "source": [
    "## **TF-IFD**\n",
    "#### TfidfTransformer:\n",
    "#### With test data vectorized"
   ]
  },
  {
   "cell_type": "code",
   "execution_count": 24,
   "metadata": {},
   "outputs": [
    {
     "name": "stdout",
     "output_type": "stream",
     "text": [
      "              precision    recall  f1-score   support\n",
      "\n",
      "           0      0.692     0.677     0.685    151624\n",
      "           1      0.684     0.699     0.691    151608\n",
      "\n",
      "    accuracy                          0.688    303232\n",
      "   macro avg      0.688     0.688     0.688    303232\n",
      "weighted avg      0.688     0.688     0.688    303232\n",
      "\n"
     ]
    }
   ],
   "source": [
    "tfidf_transformer = TfidfTransformer()\n",
    "train_tfidf = tfidf_transformer.fit_transform(X_train_cv)\n",
    "naive_bayes2 = BernoulliNB()\n",
    "naive_bayes2.fit(train_tfidf, y_train)\n",
    "\n",
    "test_data_tfidf = tfidf_transformer.transform(X_test_cv) #wel nodig??\n",
    "predicted2 = naive_bayes2.predict(test_data_tfidf)\n",
    "\n",
    "report2 = classification_report(y_test, predicted2, digits = 3)\n",
    "print(report2)"
   ]
  },
  {
   "cell_type": "code",
   "execution_count": 25,
   "metadata": {},
   "outputs": [
    {
     "data": {
      "image/png": "[encoded data removed]",
      "text/plain": [
       "<Figure size 432x288 with 2 Axes>"
      ]
     },
     "metadata": {
      "needs_background": "light"
     },
     "output_type": "display_data"
    },
    {
     "name": "stdout",
     "output_type": "stream",
     "text": [
      "[[102697  48927]\n",
      " [ 45667 105941]]\n"
     ]
    }
   ],
   "source": [
    "CATEGORIES = [\"not sarcasm\",\"sarcasm\"]\n",
    "cm2 = confusion_matrix(y_test, predicted2)\n",
    "# sns.heatmap(cm, square=False, annot=True, cmap='RdBu', cbar=False, xticklabels=['not sarcasm', 'sarcasm'], yticklabels=['not sarcasm', 'sarcasm'])\n",
    "# plt.xlabel('true label')\n",
    "# plt.ylabel('predicted label')\n",
    "plt.figure()\n",
    "plot_confusion_matrix(cm2, classes=CATEGORIES, title='Confusion matrix, without normalization')\n",
    "\n",
    "#Als je hem wel genormaliseerd wil:\n",
    "# plt.figure()\n",
    "# plot_confusion_matrix(b_cm, classes=CATEGORIES, normalize=True,\n",
    "#                       title='Normalized confusion matrix')\n",
    "\n",
    "plt.show()\n",
    "print(cm2)"
   ]
  },
  {
   "cell_type": "markdown",
   "metadata": {},
   "source": [
    "# Cosine Similarity"
   ]
  },
  {
   "cell_type": "markdown",
   "metadata": {},
   "source": [
    "#### similarity between the vectorized training sets"
   ]
  },
  {
   "cell_type": "code",
   "execution_count": 62,
   "metadata": {
    "collapsed": true
   },
   "outputs": [
    {
     "name": "stdout",
     "output_type": "stream",
     "text": [
      "Dot product = 2.294, normalized BoW = 2.449, normalized tfidf = 1.000, cosine similarity = 0.936\n"
     ]
    }
   ],
   "source": [
    "#print(cv_array.shape)\n",
    "#print(tfidf_array.shape)\n",
    "\n",
    "cv_array = X_train_cv[0].toarray()\n",
    "tfidf_array = train_tfidf[0].toarray()\n",
    "\n",
    "cv_array = cv_array.flatten()\n",
    "tfidf_array = tfidf_array.flatten()\n",
    "\n",
    "# manually compute cosine similarity\n",
    "dot = np.dot(cv_array, tfidf_array)\n",
    "norm_BoW = np.linalg.norm(cv_array)\n",
    "norm_tfidf = np.linalg.norm(tfidf_array)\n",
    "cos = dot / (norm_BoW * norm_tfidf)\n",
    " \n",
    "print('Dot product = %.3f, normalized BoW = %.3f, normalized tfidf = %.3f, cosine similarity = %.3f' %(dot,norm_BoW, norm_tfidf,cos))"
   ]
  },
  {
   "cell_type": "markdown",
   "metadata": {},
   "source": [
    "#### similarity between predictions of both vectorisation methods"
   ]
  },
  {
   "cell_type": "code",
   "execution_count": 63,
   "metadata": {},
   "outputs": [
    {
     "name": "stdout",
     "output_type": "stream",
     "text": [
      "Dot product = 154868.000, normalized BoW = 393.533, normalized tfidf = 393.533, cosine similarity = 1.000\n"
     ]
    }
   ],
   "source": [
    "#print(predictions.shape)\n",
    "#print(predicted2.shape)\n",
    "\n",
    "# manually compute cosine similarity\n",
    "dot = np.dot(predictions, predicted2)\n",
    "norm_BoW = np.linalg.norm(predictions)\n",
    "norm_tfidf = np.linalg.norm(predicted2)\n",
    "cos = dot / (norm_BoW * norm_tfidf)\n",
    " \n",
    "print('Dot product = %.3f, normalized BoW = %.3f, normalized tfidf = %.3f, cosine similarity = %.3f' %(dot,norm_BoW, norm_tfidf,cos))"
   ]
  },
  {
   "cell_type": "markdown",
   "metadata": {},
   "source": [
    "# Without stopwords"
   ]
  },
  {
   "cell_type": "markdown",
   "metadata": {},
   "source": [
    "## **Bag of Words**\n",
    "#### CountVectorizer: \n",
    "#### With test data vectorized"
   ]
  },
  {
   "cell_type": "code",
   "execution_count": 83,
   "metadata": {},
   "outputs": [
    {
     "name": "stderr",
     "output_type": "stream",
     "text": [
      "C:\\Users\\Marin\\Anaconda3\\lib\\site-packages\\sklearn\\feature_extraction\\text.py:300: UserWarning: Your stop_words may be inconsistent with your preprocessing. Tokenizing the stop words generated tokens [\"'d\", \"'ll\", \"'re\", \"'s\", \"'ve\", 'could', 'might', 'must', \"n't\", 'need', 'sha', 'wo', 'would'] not in stop_words.\n",
      "  'stop_words.' % sorted(inconsistent))\n"
     ]
    },
    {
     "name": "stdout",
     "output_type": "stream",
     "text": [
      "              precision    recall  f1-score   support\n",
      "\n",
      "           0      0.673     0.684     0.678    149085\n",
      "           1      0.689     0.678     0.684    154147\n",
      "\n",
      "    accuracy                          0.681    303232\n",
      "   macro avg      0.681     0.681     0.681    303232\n",
      "weighted avg      0.681     0.681     0.681    303232\n",
      "\n"
     ]
    }
   ],
   "source": [
    "vectorizer2 = CountVectorizer(min_df=1, tokenizer=nltk.word_tokenize, stop_words=stopwords.words('english')) \n",
    "X_train_cv2 = vectorizer2.fit_transform(X_train)\n",
    "\n",
    "naive_bayes3 = BernoulliNB()\n",
    "naive_bayes3.fit(X_train_cv2, y_train)\n",
    "# naive_bayes = MultinomialNB()\n",
    "\n",
    "X_test_cv2 = vectorizer2.transform(X_test)\n",
    "predictions3 = naive_bayes3.predict(X_test_cv2)\n",
    "\n",
    "report3 = classification_report(predictions3, y_test, digits = 3)\n",
    "print(report3)"
   ]
  },
  {
   "cell_type": "code",
   "execution_count": 84,
   "metadata": {},
   "outputs": [
    {
     "data": {
      "image/png": "[encoded data removed]",
      "text/plain": [
       "<Figure size 432x288 with 2 Axes>"
      ]
     },
     "metadata": {
      "needs_background": "light"
     },
     "output_type": "display_data"
    },
    {
     "name": "stdout",
     "output_type": "stream",
     "text": [
      "[[101971  49653]\n",
      " [ 47114 104494]]\n"
     ]
    }
   ],
   "source": [
    "CATEGORIES = [\"not sarcasm\",\"sarcasm\"]\n",
    "cm3 = confusion_matrix(y_test, predictions3)\n",
    "# sns.heatmap(cm, square=False, annot=True, cmap='RdBu', cbar=False, xticklabels=['not sarcasm', 'sarcasm'], yticklabels=['not sarcasm', 'sarcasm'])\n",
    "# plt.xlabel('true label')\n",
    "# plt.ylabel('predicted label')\n",
    "plt.figure()\n",
    "plot_confusion_matrix(cm3, classes=CATEGORIES, title='Confusion matrix, without normalization')\n",
    "\n",
    "#Als je hem wel genormaliseerd wil:\n",
    "# plt.figure()\n",
    "# plot_confusion_matrix(b_cm, classes=CATEGORIES, normalize=True,\n",
    "#                       title='Normalized confusion matrix')\n",
    "\n",
    "plt.show()\n",
    "print(cm3)"
   ]
  },
  {
   "cell_type": "markdown",
   "metadata": {},
   "source": [
    "## **TF-IFD**\n",
    "#### TfidfTransformer:\n",
    "#### With test data vectorized"
   ]
  },
  {
   "cell_type": "code",
   "execution_count": 85,
   "metadata": {},
   "outputs": [
    {
     "name": "stdout",
     "output_type": "stream",
     "text": [
      "              precision    recall  f1-score   support\n",
      "\n",
      "           0      0.684     0.673     0.678    151624\n",
      "           1      0.678     0.689     0.684    151608\n",
      "\n",
      "    accuracy                          0.681    303232\n",
      "   macro avg      0.681     0.681     0.681    303232\n",
      "weighted avg      0.681     0.681     0.681    303232\n",
      "\n"
     ]
    }
   ],
   "source": [
    "train_tfidf2 = tfidf_transformer.fit_transform(X_train_cv2)\n",
    "naive_bayes2 = BernoulliNB()\n",
    "naive_bayes2.fit(train_tfidf2, y_train)\n",
    "\n",
    "test_data_tfidf2 = tfidf_transformer.transform(X_test_cv2) #wel nodig??\n",
    "predicted4 = naive_bayes2.predict(test_data_tfidf2)\n",
    "\n",
    "report4 = classification_report(y_test, predicted4, digits = 3)\n",
    "print(report4)"
   ]
  },
  {
   "cell_type": "code",
   "execution_count": 86,
   "metadata": {},
   "outputs": [
    {
     "data": {
      "image/png": "[encoded data removed]",
      "text/plain": [
       "<Figure size 432x288 with 2 Axes>"
      ]
     },
     "metadata": {
      "needs_background": "light"
     },
     "output_type": "display_data"
    },
    {
     "name": "stdout",
     "output_type": "stream",
     "text": [
      "[[101971  49653]\n",
      " [ 47114 104494]]\n"
     ]
    }
   ],
   "source": [
    "CATEGORIES = [\"not sarcasm\",\"sarcasm\"]\n",
    "cm4 = confusion_matrix(y_test, predicted4)\n",
    "# sns.heatmap(cm, square=False, annot=True, cmap='RdBu', cbar=False, xticklabels=['not sarcasm', 'sarcasm'], yticklabels=['not sarcasm', 'sarcasm'])\n",
    "# plt.xlabel('true label')\n",
    "# plt.ylabel('predicted label')\n",
    "plt.figure()\n",
    "plot_confusion_matrix(cm4, classes=CATEGORIES, title='Confusion matrix, without normalization')\n",
    "\n",
    "#Als je hem wel genormaliseerd wil:\n",
    "# plt.figure()\n",
    "# plot_confusion_matrix(b_cm, classes=CATEGORIES, normalize=True,\n",
    "#                       title='Normalized confusion matrix')\n",
    "\n",
    "plt.show()\n",
    "print(cm4)"
   ]
  },
  {
   "cell_type": "markdown",
   "metadata": {},
   "source": [
    "# Cosine Similarity\n",
    "#### similarity between the vectorized training sets"
   ]
  },
  {
   "cell_type": "code",
   "execution_count": 87,
   "metadata": {},
   "outputs": [
    {
     "name": "stdout",
     "output_type": "stream",
     "text": [
      "Dot product = 2.294, normalized BoW = 2.449, normalized tfidf = 1.000, cosine similarity = 0.936\n"
     ]
    }
   ],
   "source": [
    "#print(cv_array.shape)\n",
    "#print(tfidf_array.shape)\n",
    "\n",
    "cv_array2 = X_train_cv2[0].toarray()\n",
    "tfidf_array2 = train_tfidf2[0].toarray()\n",
    "\n",
    "cv_array2 = cv_array.flatten()\n",
    "tfidf_array2 = tfidf_array.flatten()\n",
    "\n",
    "# manually compute cosine similarity\n",
    "dot = np.dot(cv_array2, tfidf_array2)\n",
    "norm_BoW = np.linalg.norm(cv_array2)\n",
    "norm_tfidf = np.linalg.norm(tfidf_array2)\n",
    "cos = dot / (norm_BoW * norm_tfidf)\n",
    " \n",
    "print('Dot product = %.3f, normalized BoW = %.3f, normalized tfidf = %.3f, cosine similarity = %.3f' %(dot,norm_BoW, norm_tfidf,cos))"
   ]
  },
  {
   "cell_type": "markdown",
   "metadata": {},
   "source": [
    "#### similarity between predictions of both vectorisation methods"
   ]
  },
  {
   "cell_type": "code",
   "execution_count": 88,
   "metadata": {},
   "outputs": [
    {
     "name": "stdout",
     "output_type": "stream",
     "text": [
      "Dot product = 154147.000, normalized BoW = 392.616, normalized tfidf = 392.616, cosine similarity = 1.000\n"
     ]
    }
   ],
   "source": [
    "#print(predictions.shape)\n",
    "#print(predicted2.shape)\n",
    "\n",
    "# manually compute cosine similarity\n",
    "dot = np.dot(predictions3, predicted4)\n",
    "norm_BoW = np.linalg.norm(predictions3)\n",
    "norm_tfidf = np.linalg.norm(predicted4)\n",
    "cos = dot / (norm_BoW * norm_tfidf)\n",
    " \n",
    "print('Dot product = %.3f, normalized BoW = %.3f, normalized tfidf = %.3f, cosine similarity = %.3f' %(dot,norm_BoW, norm_tfidf,cos))"
   ]
  },
  {
   "cell_type": "code",
   "execution_count": null,
   "metadata": {},
   "outputs": [],
   "source": []
  }
 ],
 "metadata": {
  "kernelspec": {
   "display_name": "Python 3",
   "language": "python",
   "name": "python3"
  },
  "language_info": {
   "codemirror_mode": {
    "name": "ipython",
    "version": 3
   },
   "file_extension": ".py",
   "mimetype": "text/x-python",
   "name": "python",
   "nbconvert_exporter": "python",
   "pygments_lexer": "ipython3",
   "version": "3.7.4"
  }
 },
 "nbformat": 4,
 "nbformat_minor": 4
}
